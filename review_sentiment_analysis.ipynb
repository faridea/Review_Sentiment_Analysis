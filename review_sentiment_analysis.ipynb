{
  "nbformat": 4,
  "nbformat_minor": 0,
  "metadata": {
    "colab": {
      "provenance": []
    },
    "kernelspec": {
      "name": "python3",
      "display_name": "Python 3"
    },
    "language_info": {
      "name": "python"
    },
    "gpuClass": "standard",
    "accelerator": "GPU"
  },
  "cells": [
    {
      "cell_type": "markdown",
      "source": [
        "PREPROCESSING"
      ],
      "metadata": {
        "id": "7cixkSi_mnUO"
      }
    },
    {
      "cell_type": "code",
      "source": [
        "import pandas as pd\n",
        "import re\n",
        "import numpy as np\n",
        "import nltk\n",
        "from nltk.corpus import stopwords\n",
        "# from nltk.stem import WordNetLemmatizer\n",
        "from nltk.stem import PorterStemmer\n",
        "from nltk.tokenize import word_tokenize"
      ],
      "metadata": {
        "id": "Z5Oo8cikdf_z"
      },
      "execution_count": null,
      "outputs": []
    },
    {
      "cell_type": "code",
      "source": [
        "df = pd.read_csv('reviews.csv')"
      ],
      "metadata": {
        "id": "uhLotRTwqSDS"
      },
      "execution_count": null,
      "outputs": []
    },
    {
      "cell_type": "code",
      "source": [
        "df.head()"
      ],
      "metadata": {
        "colab": {
          "base_uri": "https://localhost:8080/",
          "height": 206
        },
        "id": "bmuahrtDqhkQ",
        "outputId": "a85e0fc5-972a-440c-a0e3-bd97a87184f0"
      },
      "execution_count": null,
      "outputs": [
        {
          "output_type": "execute_result",
          "data": {
            "text/plain": [
              "   Score                                               Text  \\\n",
              "0      5  I have bought several of the Vitality canned d...   \n",
              "1      1  Product arrived labeled as Jumbo Salted Peanut...   \n",
              "2      4  This is a confection that has been around a fe...   \n",
              "3      2  If you are looking for the secret ingredient i...   \n",
              "4      5  Great taffy at a great price.  There was a wid...   \n",
              "\n",
              "                                          Clean_Text  label  \n",
              "0  bought sever vital dog food product found good...      1  \n",
              "1  product arriv label jumbo salt peanut peanut a...      0  \n",
              "2  thi confect ha around centuri light pillowi ci...      1  \n",
              "3  look secret ingredi robitussin believ found go...      0  \n",
              "4  great taffi great price wa wide assort yummi t...      1  "
            ],
            "text/html": [
              "\n",
              "  <div id=\"df-0b93de22-3461-4ef4-acd2-457ded008192\">\n",
              "    <div class=\"colab-df-container\">\n",
              "      <div>\n",
              "<style scoped>\n",
              "    .dataframe tbody tr th:only-of-type {\n",
              "        vertical-align: middle;\n",
              "    }\n",
              "\n",
              "    .dataframe tbody tr th {\n",
              "        vertical-align: top;\n",
              "    }\n",
              "\n",
              "    .dataframe thead th {\n",
              "        text-align: right;\n",
              "    }\n",
              "</style>\n",
              "<table border=\"1\" class=\"dataframe\">\n",
              "  <thead>\n",
              "    <tr style=\"text-align: right;\">\n",
              "      <th></th>\n",
              "      <th>Score</th>\n",
              "      <th>Text</th>\n",
              "      <th>Clean_Text</th>\n",
              "      <th>label</th>\n",
              "    </tr>\n",
              "  </thead>\n",
              "  <tbody>\n",
              "    <tr>\n",
              "      <th>0</th>\n",
              "      <td>5</td>\n",
              "      <td>I have bought several of the Vitality canned d...</td>\n",
              "      <td>bought sever vital dog food product found good...</td>\n",
              "      <td>1</td>\n",
              "    </tr>\n",
              "    <tr>\n",
              "      <th>1</th>\n",
              "      <td>1</td>\n",
              "      <td>Product arrived labeled as Jumbo Salted Peanut...</td>\n",
              "      <td>product arriv label jumbo salt peanut peanut a...</td>\n",
              "      <td>0</td>\n",
              "    </tr>\n",
              "    <tr>\n",
              "      <th>2</th>\n",
              "      <td>4</td>\n",
              "      <td>This is a confection that has been around a fe...</td>\n",
              "      <td>thi confect ha around centuri light pillowi ci...</td>\n",
              "      <td>1</td>\n",
              "    </tr>\n",
              "    <tr>\n",
              "      <th>3</th>\n",
              "      <td>2</td>\n",
              "      <td>If you are looking for the secret ingredient i...</td>\n",
              "      <td>look secret ingredi robitussin believ found go...</td>\n",
              "      <td>0</td>\n",
              "    </tr>\n",
              "    <tr>\n",
              "      <th>4</th>\n",
              "      <td>5</td>\n",
              "      <td>Great taffy at a great price.  There was a wid...</td>\n",
              "      <td>great taffi great price wa wide assort yummi t...</td>\n",
              "      <td>1</td>\n",
              "    </tr>\n",
              "  </tbody>\n",
              "</table>\n",
              "</div>\n",
              "      <button class=\"colab-df-convert\" onclick=\"convertToInteractive('df-0b93de22-3461-4ef4-acd2-457ded008192')\"\n",
              "              title=\"Convert this dataframe to an interactive table.\"\n",
              "              style=\"display:none;\">\n",
              "        \n",
              "  <svg xmlns=\"http://www.w3.org/2000/svg\" height=\"24px\"viewBox=\"0 0 24 24\"\n",
              "       width=\"24px\">\n",
              "    <path d=\"M0 0h24v24H0V0z\" fill=\"none\"/>\n",
              "    <path d=\"M18.56 5.44l.94 2.06.94-2.06 2.06-.94-2.06-.94-.94-2.06-.94 2.06-2.06.94zm-11 1L8.5 8.5l.94-2.06 2.06-.94-2.06-.94L8.5 2.5l-.94 2.06-2.06.94zm10 10l.94 2.06.94-2.06 2.06-.94-2.06-.94-.94-2.06-.94 2.06-2.06.94z\"/><path d=\"M17.41 7.96l-1.37-1.37c-.4-.4-.92-.59-1.43-.59-.52 0-1.04.2-1.43.59L10.3 9.45l-7.72 7.72c-.78.78-.78 2.05 0 2.83L4 21.41c.39.39.9.59 1.41.59.51 0 1.02-.2 1.41-.59l7.78-7.78 2.81-2.81c.8-.78.8-2.07 0-2.86zM5.41 20L4 18.59l7.72-7.72 1.47 1.35L5.41 20z\"/>\n",
              "  </svg>\n",
              "      </button>\n",
              "      \n",
              "  <style>\n",
              "    .colab-df-container {\n",
              "      display:flex;\n",
              "      flex-wrap:wrap;\n",
              "      gap: 12px;\n",
              "    }\n",
              "\n",
              "    .colab-df-convert {\n",
              "      background-color: #E8F0FE;\n",
              "      border: none;\n",
              "      border-radius: 50%;\n",
              "      cursor: pointer;\n",
              "      display: none;\n",
              "      fill: #1967D2;\n",
              "      height: 32px;\n",
              "      padding: 0 0 0 0;\n",
              "      width: 32px;\n",
              "    }\n",
              "\n",
              "    .colab-df-convert:hover {\n",
              "      background-color: #E2EBFA;\n",
              "      box-shadow: 0px 1px 2px rgba(60, 64, 67, 0.3), 0px 1px 3px 1px rgba(60, 64, 67, 0.15);\n",
              "      fill: #174EA6;\n",
              "    }\n",
              "\n",
              "    [theme=dark] .colab-df-convert {\n",
              "      background-color: #3B4455;\n",
              "      fill: #D2E3FC;\n",
              "    }\n",
              "\n",
              "    [theme=dark] .colab-df-convert:hover {\n",
              "      background-color: #434B5C;\n",
              "      box-shadow: 0px 1px 3px 1px rgba(0, 0, 0, 0.15);\n",
              "      filter: drop-shadow(0px 1px 2px rgba(0, 0, 0, 0.3));\n",
              "      fill: #FFFFFF;\n",
              "    }\n",
              "  </style>\n",
              "\n",
              "      <script>\n",
              "        const buttonEl =\n",
              "          document.querySelector('#df-0b93de22-3461-4ef4-acd2-457ded008192 button.colab-df-convert');\n",
              "        buttonEl.style.display =\n",
              "          google.colab.kernel.accessAllowed ? 'block' : 'none';\n",
              "\n",
              "        async function convertToInteractive(key) {\n",
              "          const element = document.querySelector('#df-0b93de22-3461-4ef4-acd2-457ded008192');\n",
              "          const dataTable =\n",
              "            await google.colab.kernel.invokeFunction('convertToInteractive',\n",
              "                                                     [key], {});\n",
              "          if (!dataTable) return;\n",
              "\n",
              "          const docLinkHtml = 'Like what you see? Visit the ' +\n",
              "            '<a target=\"_blank\" href=https://colab.research.google.com/notebooks/data_table.ipynb>data table notebook</a>'\n",
              "            + ' to learn more about interactive tables.';\n",
              "          element.innerHTML = '';\n",
              "          dataTable['output_type'] = 'display_data';\n",
              "          await google.colab.output.renderOutput(dataTable, element);\n",
              "          const docLink = document.createElement('div');\n",
              "          docLink.innerHTML = docLinkHtml;\n",
              "          element.appendChild(docLink);\n",
              "        }\n",
              "      </script>\n",
              "    </div>\n",
              "  </div>\n",
              "  "
            ]
          },
          "metadata": {},
          "execution_count": 113
        }
      ]
    },
    {
      "cell_type": "code",
      "source": [
        "my_stemmer = PorterStemmer()"
      ],
      "metadata": {
        "id": "ydtLphdzxNZG"
      },
      "execution_count": null,
      "outputs": []
    },
    {
      "cell_type": "code",
      "source": [
        "nltk.download('punkt')"
      ],
      "metadata": {
        "colab": {
          "base_uri": "https://localhost:8080/"
        },
        "id": "pNQBK1kMZUYz",
        "outputId": "07cde02f-e0fe-4420-c2cc-8e3323930ddd"
      },
      "execution_count": null,
      "outputs": [
        {
          "output_type": "stream",
          "name": "stderr",
          "text": [
            "[nltk_data] Downloading package punkt to /root/nltk_data...\n",
            "[nltk_data]   Package punkt is already up-to-date!\n"
          ]
        },
        {
          "output_type": "execute_result",
          "data": {
            "text/plain": [
              "True"
            ]
          },
          "metadata": {},
          "execution_count": 115
        }
      ]
    },
    {
      "cell_type": "code",
      "source": [
        "def review_to_words(raw_review):\n",
        "    letters_only = re.sub(\"[^a-zA-Z]\", \" \", raw_review)\n",
        "    words = word_tokenize(letters_only.lower())\n",
        "    my_stemmer = PorterStemmer()\n",
        "    stemmed_words = [my_stemmer.stem(word) for word in words]\n",
        "    stops = set(stopwords.words(\"english\"))\n",
        "    meaningful_words = [w for w in stemmed_words if not w in stops]\n",
        "    # return(\" \".join(meaningful_words))\n",
        "    return meaningful_words"
      ],
      "metadata": {
        "id": "pRNUtd76lxTg"
      },
      "execution_count": null,
      "outputs": []
    },
    {
      "cell_type": "code",
      "source": [
        "nltk.download('stopwords')\n",
        "num_reviews = df['Text'].size"
      ],
      "metadata": {
        "colab": {
          "base_uri": "https://localhost:8080/"
        },
        "id": "bY3CcMAVlxVS",
        "outputId": "cf449eab-ca97-4caf-f59a-2a0a9b063dbc"
      },
      "execution_count": null,
      "outputs": [
        {
          "output_type": "stream",
          "name": "stderr",
          "text": [
            "[nltk_data] Downloading package stopwords to /root/nltk_data...\n",
            "[nltk_data]   Package stopwords is already up-to-date!\n"
          ]
        }
      ]
    },
    {
      "cell_type": "markdown",
      "source": [
        "TOKENIZATION"
      ],
      "metadata": {
        "id": "8mx_f4TfmqvB"
      }
    },
    {
      "cell_type": "code",
      "source": [
        "df['tokenized'] = df['Text'].apply(review_to_words)"
      ],
      "metadata": {
        "id": "s4T77RgLdueQ"
      },
      "execution_count": null,
      "outputs": []
    },
    {
      "cell_type": "code",
      "source": [
        "df.head()"
      ],
      "metadata": {
        "colab": {
          "base_uri": "https://localhost:8080/",
          "height": 2114
        },
        "id": "WtbDyAl-tBMF",
        "outputId": "86b44c98-18bf-474a-d8e1-2f57b2736ae1"
      },
      "execution_count": null,
      "outputs": [
        {
          "output_type": "execute_result",
          "data": {
            "text/plain": [
              "   Score                                               Text  \\\n",
              "0      5  I have bought several of the Vitality canned d...   \n",
              "1      1  Product arrived labeled as Jumbo Salted Peanut...   \n",
              "2      4  This is a confection that has been around a fe...   \n",
              "3      2  If you are looking for the secret ingredient i...   \n",
              "4      5  Great taffy at a great price.  There was a wid...   \n",
              "\n",
              "                                          Clean_Text  label  \\\n",
              "0  bought sever vital dog food product found good...      1   \n",
              "1  product arriv label jumbo salt peanut peanut a...      0   \n",
              "2  thi confect ha around centuri light pillowi ci...      1   \n",
              "3  look secret ingredi robitussin believ found go...      0   \n",
              "4  great taffi great price wa wide assort yummi t...      1   \n",
              "\n",
              "                                           tokenized  \n",
              "0  [bought, sever, vital, dog, food, product, fou...  \n",
              "1  [product, arriv, label, jumbo, salt, peanut, p...  \n",
              "2  [thi, confect, ha, around, centuri, light, pil...  \n",
              "3  [look, secret, ingredi, robitussin, believ, fo...  \n",
              "4  [great, taffi, great, price, wa, wide, assort,...  "
            ],
            "text/html": [
              "\n",
              "  <div id=\"df-ad78cace-9c7c-4a95-814a-80e1f62f22b8\">\n",
              "    <div class=\"colab-df-container\">\n",
              "      <div>\n",
              "<style scoped>\n",
              "    .dataframe tbody tr th:only-of-type {\n",
              "        vertical-align: middle;\n",
              "    }\n",
              "\n",
              "    .dataframe tbody tr th {\n",
              "        vertical-align: top;\n",
              "    }\n",
              "\n",
              "    .dataframe thead th {\n",
              "        text-align: right;\n",
              "    }\n",
              "</style>\n",
              "<table border=\"1\" class=\"dataframe\">\n",
              "  <thead>\n",
              "    <tr style=\"text-align: right;\">\n",
              "      <th></th>\n",
              "      <th>Score</th>\n",
              "      <th>Text</th>\n",
              "      <th>Clean_Text</th>\n",
              "      <th>label</th>\n",
              "      <th>tokenized</th>\n",
              "    </tr>\n",
              "  </thead>\n",
              "  <tbody>\n",
              "    <tr>\n",
              "      <th>0</th>\n",
              "      <td>5</td>\n",
              "      <td>I have bought several of the Vitality canned d...</td>\n",
              "      <td>bought sever vital dog food product found good...</td>\n",
              "      <td>1</td>\n",
              "      <td>[bought, sever, vital, dog, food, product, fou...</td>\n",
              "    </tr>\n",
              "    <tr>\n",
              "      <th>1</th>\n",
              "      <td>1</td>\n",
              "      <td>Product arrived labeled as Jumbo Salted Peanut...</td>\n",
              "      <td>product arriv label jumbo salt peanut peanut a...</td>\n",
              "      <td>0</td>\n",
              "      <td>[product, arriv, label, jumbo, salt, peanut, p...</td>\n",
              "    </tr>\n",
              "    <tr>\n",
              "      <th>2</th>\n",
              "      <td>4</td>\n",
              "      <td>This is a confection that has been around a fe...</td>\n",
              "      <td>thi confect ha around centuri light pillowi ci...</td>\n",
              "      <td>1</td>\n",
              "      <td>[thi, confect, ha, around, centuri, light, pil...</td>\n",
              "    </tr>\n",
              "    <tr>\n",
              "      <th>3</th>\n",
              "      <td>2</td>\n",
              "      <td>If you are looking for the secret ingredient i...</td>\n",
              "      <td>look secret ingredi robitussin believ found go...</td>\n",
              "      <td>0</td>\n",
              "      <td>[look, secret, ingredi, robitussin, believ, fo...</td>\n",
              "    </tr>\n",
              "    <tr>\n",
              "      <th>4</th>\n",
              "      <td>5</td>\n",
              "      <td>Great taffy at a great price.  There was a wid...</td>\n",
              "      <td>great taffi great price wa wide assort yummi t...</td>\n",
              "      <td>1</td>\n",
              "      <td>[great, taffi, great, price, wa, wide, assort,...</td>\n",
              "    </tr>\n",
              "  </tbody>\n",
              "</table>\n",
              "</div>\n",
              "      <button class=\"colab-df-convert\" onclick=\"convertToInteractive('df-ad78cace-9c7c-4a95-814a-80e1f62f22b8')\"\n",
              "              title=\"Convert this dataframe to an interactive table.\"\n",
              "              style=\"display:none;\">\n",
              "        \n",
              "  <svg xmlns=\"http://www.w3.org/2000/svg\" height=\"24px\"viewBox=\"0 0 24 24\"\n",
              "       width=\"24px\">\n",
              "    <path d=\"M0 0h24v24H0V0z\" fill=\"none\"/>\n",
              "    <path d=\"M18.56 5.44l.94 2.06.94-2.06 2.06-.94-2.06-.94-.94-2.06-.94 2.06-2.06.94zm-11 1L8.5 8.5l.94-2.06 2.06-.94-2.06-.94L8.5 2.5l-.94 2.06-2.06.94zm10 10l.94 2.06.94-2.06 2.06-.94-2.06-.94-.94-2.06-.94 2.06-2.06.94z\"/><path d=\"M17.41 7.96l-1.37-1.37c-.4-.4-.92-.59-1.43-.59-.52 0-1.04.2-1.43.59L10.3 9.45l-7.72 7.72c-.78.78-.78 2.05 0 2.83L4 21.41c.39.39.9.59 1.41.59.51 0 1.02-.2 1.41-.59l7.78-7.78 2.81-2.81c.8-.78.8-2.07 0-2.86zM5.41 20L4 18.59l7.72-7.72 1.47 1.35L5.41 20z\"/>\n",
              "  </svg>\n",
              "      </button>\n",
              "      \n",
              "  <style>\n",
              "    .colab-df-container {\n",
              "      display:flex;\n",
              "      flex-wrap:wrap;\n",
              "      gap: 12px;\n",
              "    }\n",
              "\n",
              "    .colab-df-convert {\n",
              "      background-color: #E8F0FE;\n",
              "      border: none;\n",
              "      border-radius: 50%;\n",
              "      cursor: pointer;\n",
              "      display: none;\n",
              "      fill: #1967D2;\n",
              "      height: 32px;\n",
              "      padding: 0 0 0 0;\n",
              "      width: 32px;\n",
              "    }\n",
              "\n",
              "    .colab-df-convert:hover {\n",
              "      background-color: #E2EBFA;\n",
              "      box-shadow: 0px 1px 2px rgba(60, 64, 67, 0.3), 0px 1px 3px 1px rgba(60, 64, 67, 0.15);\n",
              "      fill: #174EA6;\n",
              "    }\n",
              "\n",
              "    [theme=dark] .colab-df-convert {\n",
              "      background-color: #3B4455;\n",
              "      fill: #D2E3FC;\n",
              "    }\n",
              "\n",
              "    [theme=dark] .colab-df-convert:hover {\n",
              "      background-color: #434B5C;\n",
              "      box-shadow: 0px 1px 3px 1px rgba(0, 0, 0, 0.15);\n",
              "      filter: drop-shadow(0px 1px 2px rgba(0, 0, 0, 0.3));\n",
              "      fill: #FFFFFF;\n",
              "    }\n",
              "  </style>\n",
              "\n",
              "      <script>\n",
              "        const buttonEl =\n",
              "          document.querySelector('#df-ad78cace-9c7c-4a95-814a-80e1f62f22b8 button.colab-df-convert');\n",
              "        buttonEl.style.display =\n",
              "          google.colab.kernel.accessAllowed ? 'block' : 'none';\n",
              "\n",
              "        async function convertToInteractive(key) {\n",
              "          const element = document.querySelector('#df-ad78cace-9c7c-4a95-814a-80e1f62f22b8');\n",
              "          const dataTable =\n",
              "            await google.colab.kernel.invokeFunction('convertToInteractive',\n",
              "                                                     [key], {});\n",
              "          if (!dataTable) return;\n",
              "\n",
              "          const docLinkHtml = 'Like what you see? Visit the ' +\n",
              "            '<a target=\"_blank\" href=https://colab.research.google.com/notebooks/data_table.ipynb>data table notebook</a>'\n",
              "            + ' to learn more about interactive tables.';\n",
              "          element.innerHTML = '';\n",
              "          dataTable['output_type'] = 'display_data';\n",
              "          await google.colab.output.renderOutput(dataTable, element);\n",
              "          const docLink = document.createElement('div');\n",
              "          docLink.innerHTML = docLinkHtml;\n",
              "          element.appendChild(docLink);\n",
              "        }\n",
              "      </script>\n",
              "    </div>\n",
              "  </div>\n",
              "  "
            ]
          },
          "metadata": {},
          "execution_count": 12
        }
      ]
    },
    {
      "cell_type": "markdown",
      "source": [
        "DROP USELESS FEATURES"
      ],
      "metadata": {
        "id": "WsivMPpAmtrj"
      }
    },
    {
      "cell_type": "code",
      "source": [
        "df = df.drop('Id', axis=1)\n",
        "df = df.drop('ProductId', axis=1)\n",
        "df = df.drop('UserId', axis=1)\n",
        "df = df.drop('HelpfulnessNumerator', axis=1)\n",
        "df = df.drop('HelpfulnessDenominator', axis=1)\n",
        "df = df.drop('Summary', axis=1)\n",
        "df = df.drop('Time', axis=1)\n",
        "df = df.drop('ProfileName', axis =1)"
      ],
      "metadata": {
        "id": "m8HSC86qyMCS"
      },
      "execution_count": null,
      "outputs": []
    },
    {
      "cell_type": "markdown",
      "source": [
        "LABELS"
      ],
      "metadata": {
        "id": "vKCfl4lisoji"
      }
    },
    {
      "cell_type": "code",
      "source": [
        "df['label'] = None"
      ],
      "metadata": {
        "id": "xW9kQ3Fn0nz5"
      },
      "execution_count": null,
      "outputs": []
    },
    {
      "cell_type": "code",
      "source": [
        "df.shape"
      ],
      "metadata": {
        "colab": {
          "base_uri": "https://localhost:8080/"
        },
        "id": "CJEtgHiyQiI4",
        "outputId": "d08f63eb-978b-4f98-ef3c-9dbb7d76a62d"
      },
      "execution_count": null,
      "outputs": [
        {
          "output_type": "execute_result",
          "data": {
            "text/plain": [
              "(568454, 5)"
            ]
          },
          "metadata": {},
          "execution_count": 13
        }
      ]
    },
    {
      "cell_type": "code",
      "source": [
        "for i in df.index:\n",
        "    if df.Score[i] == 1 or df.Score[i] == 2:\n",
        "        df.loc[i, 'label'] = 0\n",
        "    elif df.Score[i] == 3 or df.Score[i] == 4 or df.Score[i] == 5 :\n",
        "        df.loc[i, 'label'] = 1"
      ],
      "metadata": {
        "id": "Bz8pv22TXdn6"
      },
      "execution_count": null,
      "outputs": []
    },
    {
      "cell_type": "markdown",
      "source": [
        "VOCAB"
      ],
      "metadata": {
        "id": "js7WRkyE25Xp"
      }
    },
    {
      "cell_type": "code",
      "source": [
        "import pandas as pd\n",
        "import numpy as np\n",
        "import torch\n",
        "import torch.nn as nn\n",
        "from torch.utils.data import Dataset, DataLoader\n",
        "from torch.nn.utils.rnn import pad_sequence\n",
        "from sklearn.model_selection import train_test_split"
      ],
      "metadata": {
        "id": "wQcFymtI24Fc"
      },
      "execution_count": null,
      "outputs": []
    },
    {
      "cell_type": "code",
      "source": [
        "X_tokenized = df['tokenized'].values\n",
        "y = df['label'].values"
      ],
      "metadata": {
        "id": "VTD3EUnW1yBj"
      },
      "execution_count": null,
      "outputs": []
    },
    {
      "cell_type": "code",
      "source": [
        "vocab = {}\n",
        "\n",
        "for sentence in X_tokenized:\n",
        "  for word in sentence:\n",
        "    if word not in vocab:\n",
        "      vocab[word] = len(vocab)"
      ],
      "metadata": {
        "id": "GvRaO5z215JU"
      },
      "execution_count": null,
      "outputs": []
    },
    {
      "cell_type": "code",
      "source": [
        "vocab"
      ],
      "metadata": {
        "colab": {
          "base_uri": "https://localhost:8080/"
        },
        "id": "Ke8e4CiBcxUV",
        "outputId": "9259abb4-84d7-466b-fb22-3418dc068824"
      },
      "execution_count": null,
      "outputs": [
        {
          "output_type": "execute_result",
          "data": {
            "text/plain": [
              "{'bought': 0,\n",
              " 'sever': 1,\n",
              " 'vital': 2,\n",
              " 'dog': 3,\n",
              " 'food': 4,\n",
              " 'product': 5,\n",
              " 'found': 6,\n",
              " 'good': 7,\n",
              " 'qualiti': 8,\n",
              " 'look': 9,\n",
              " 'like': 10,\n",
              " 'stew': 11,\n",
              " 'process': 12,\n",
              " 'meat': 13,\n",
              " 'smell': 14,\n",
              " 'better': 15,\n",
              " 'labrador': 16,\n",
              " 'finicki': 17,\n",
              " 'appreci': 18,\n",
              " 'thi': 19,\n",
              " 'arriv': 20,\n",
              " 'label': 21,\n",
              " 'jumbo': 22,\n",
              " 'salt': 23,\n",
              " 'peanut': 24,\n",
              " 'actual': 25,\n",
              " 'small': 26,\n",
              " 'size': 27,\n",
              " 'unsalt': 28,\n",
              " 'sure': 29,\n",
              " 'wa': 30,\n",
              " 'error': 31,\n",
              " 'vendor': 32,\n",
              " 'intend': 33,\n",
              " 'repres': 34,\n",
              " 'confect': 35,\n",
              " 'ha': 36,\n",
              " 'around': 37,\n",
              " 'centuri': 38,\n",
              " 'light': 39,\n",
              " 'pillowi': 40,\n",
              " 'citru': 41,\n",
              " 'gelatin': 42,\n",
              " 'nut': 43,\n",
              " 'case': 44,\n",
              " 'filbert': 45,\n",
              " 'cut': 46,\n",
              " 'tini': 47,\n",
              " 'squar': 48,\n",
              " 'liber': 49,\n",
              " 'coat': 50,\n",
              " 'powder': 51,\n",
              " 'sugar': 52,\n",
              " 'mouth': 53,\n",
              " 'heaven': 54,\n",
              " 'chewi': 55,\n",
              " 'veri': 56,\n",
              " 'flavor': 57,\n",
              " 'highli': 58,\n",
              " 'recommend': 59,\n",
              " 'yummi': 60,\n",
              " 'treat': 61,\n",
              " 'familiar': 62,\n",
              " 'stori': 63,\n",
              " 'c': 64,\n",
              " 'lewi': 65,\n",
              " 'lion': 66,\n",
              " 'witch': 67,\n",
              " 'wardrob': 68,\n",
              " 'seduc': 69,\n",
              " 'edmund': 70,\n",
              " 'sell': 71,\n",
              " 'hi': 72,\n",
              " 'brother': 73,\n",
              " 'sister': 74,\n",
              " 'secret': 75,\n",
              " 'ingredi': 76,\n",
              " 'robitussin': 77,\n",
              " 'believ': 78,\n",
              " 'got': 79,\n",
              " 'addit': 80,\n",
              " 'root': 81,\n",
              " 'beer': 82,\n",
              " 'extract': 83,\n",
              " 'order': 84,\n",
              " 'made': 85,\n",
              " 'cherri': 86,\n",
              " 'soda': 87,\n",
              " 'medicin': 88,\n",
              " 'great': 89,\n",
              " 'taffi': 90,\n",
              " 'price': 91,\n",
              " 'wide': 92,\n",
              " 'assort': 93,\n",
              " 'deliveri': 94,\n",
              " 'quick': 95,\n",
              " 'lover': 96,\n",
              " 'deal': 97,\n",
              " 'wild': 98,\n",
              " 'hair': 99,\n",
              " 'five': 100,\n",
              " 'pound': 101,\n",
              " 'bag': 102,\n",
              " 'enjoy': 103,\n",
              " 'mani': 104,\n",
              " 'watermelon': 105,\n",
              " 'melon': 106,\n",
              " 'peppermint': 107,\n",
              " 'grape': 108,\n",
              " 'etc': 109,\n",
              " 'onli': 110,\n",
              " 'complaint': 111,\n",
              " 'bit': 112,\n",
              " 'much': 113,\n",
              " 'red': 114,\n",
              " 'black': 115,\n",
              " 'licoric': 116,\n",
              " 'piec': 117,\n",
              " 'particular': 118,\n",
              " 'favorit': 119,\n",
              " 'kid': 120,\n",
              " 'husband': 121,\n",
              " 'last': 122,\n",
              " 'two': 123,\n",
              " 'week': 124,\n",
              " 'would': 125,\n",
              " 'brand': 126,\n",
              " 'delight': 127,\n",
              " 'saltwat': 128,\n",
              " 'soft': 129,\n",
              " 'candi': 130,\n",
              " 'individu': 131,\n",
              " 'wrap': 132,\n",
              " 'well': 133,\n",
              " 'none': 134,\n",
              " 'stuck': 135,\n",
              " 'togeth': 136,\n",
              " 'happen': 137,\n",
              " 'expens': 138,\n",
              " 'version': 139,\n",
              " 'fraling': 140,\n",
              " 'serv': 141,\n",
              " 'beach': 142,\n",
              " 'theme': 143,\n",
              " 'parti': 144,\n",
              " 'everyon': 145,\n",
              " 'love': 146,\n",
              " 'amaz': 147,\n",
              " 'definit': 148,\n",
              " 'buy': 149,\n",
              " 'satisfi': 150,\n",
              " 'right': 151,\n",
              " 'mostli': 152,\n",
              " 'sprout': 153,\n",
              " 'cat': 154,\n",
              " 'eat': 155,\n",
              " 'grass': 156,\n",
              " 'rotat': 157,\n",
              " 'wheatgrass': 158,\n",
              " 'rye': 159,\n",
              " 'healthi': 160,\n",
              " 'digest': 161,\n",
              " 'also': 162,\n",
              " 'puppi': 163,\n",
              " 'requir': 164,\n",
              " 'amount': 165,\n",
              " 'everi': 166,\n",
              " 'feed': 167,\n",
              " 'know': 168,\n",
              " 'cactu': 169,\n",
              " 'tequila': 170,\n",
              " 'uniqu': 171,\n",
              " 'combin': 172,\n",
              " 'flavour': 173,\n",
              " 'hot': 174,\n",
              " 'sauc': 175,\n",
              " 'make': 176,\n",
              " 'one': 177,\n",
              " 'kind': 178,\n",
              " 'pick': 179,\n",
              " 'bottl': 180,\n",
              " 'onc': 181,\n",
              " 'trip': 182,\n",
              " 'brought': 183,\n",
              " 'back': 184,\n",
              " 'home': 185,\n",
              " 'us': 186,\n",
              " 'total': 187,\n",
              " 'blown': 188,\n",
              " 'away': 189,\n",
              " 'realiz': 190,\n",
              " 'simpli': 191,\n",
              " 'find': 192,\n",
              " 'anywher': 193,\n",
              " 'citi': 194,\n",
              " 'bum': 195,\n",
              " 'br': 196,\n",
              " 'becaus': 197,\n",
              " 'magic': 198,\n",
              " 'internet': 199,\n",
              " 'ecstat': 200,\n",
              " 'mean': 201,\n",
              " 'realli': 202,\n",
              " 'want': 203,\n",
              " 'tastelessli': 204,\n",
              " 'burn': 205,\n",
              " 'throat': 206,\n",
              " 'grab': 207,\n",
              " 'picant': 208,\n",
              " 'gourmet': 209,\n",
              " 'de': 210,\n",
              " 'inclan': 211,\n",
              " 'tast': 212,\n",
              " 'never': 213,\n",
              " 'use': 214,\n",
              " 'ani': 215,\n",
              " 'thank': 216,\n",
              " 'person': 217,\n",
              " 'incred': 218,\n",
              " 'servic': 219,\n",
              " 'boy': 220,\n",
              " 'need': 221,\n",
              " 'lose': 222,\n",
              " 'weight': 223,\n",
              " 'put': 224,\n",
              " 'floor': 225,\n",
              " 'chubbi': 226,\n",
              " 'guy': 227,\n",
              " 'protein': 228,\n",
              " 'rich': 229,\n",
              " 'higher': 230,\n",
              " 'skinni': 231,\n",
              " 'jump': 232,\n",
              " 'sit': 233,\n",
              " 'go': 234,\n",
              " 'stale': 235,\n",
              " 'ounc': 236,\n",
              " 'happili': 237,\n",
              " 'felida': 238,\n",
              " 'platinum': 239,\n",
              " 'year': 240,\n",
              " 'new': 241,\n",
              " 'shape': 242,\n",
              " 'differ': 243,\n",
              " 'tri': 244,\n",
              " 'first': 245,\n",
              " 'bowl': 246,\n",
              " 'full': 247,\n",
              " 'kitti': 248,\n",
              " 'touch': 249,\n",
              " 'notic': 250,\n",
              " 'similar': 251,\n",
              " 'review': 252,\n",
              " 'relat': 253,\n",
              " 'formula': 254,\n",
              " 'chang': 255,\n",
              " 'past': 256,\n",
              " 'unfortun': 257,\n",
              " 'came': 258,\n",
              " 'secur': 259,\n",
              " 'pack': 260,\n",
              " 'fresh': 261,\n",
              " 'delici': 262,\n",
              " 'twizzler': 263,\n",
              " 'strawberri': 264,\n",
              " 'guilti': 265,\n",
              " 'pleasur': 266,\n",
              " 'six': 267,\n",
              " 'son': 268,\n",
              " 'daughter': 269,\n",
              " 'shipment': 270,\n",
              " 'hit': 271,\n",
              " 'spot': 272,\n",
              " 'exactli': 273,\n",
              " 'expect': 274,\n",
              " 'packag': 275,\n",
              " 'watch': 276,\n",
              " 'tv': 277,\n",
              " 'movi': 278,\n",
              " 'sweet': 279,\n",
              " 'transfer': 280,\n",
              " 'zip': 281,\n",
              " 'lock': 282,\n",
              " 'baggi': 283,\n",
              " 'stay': 284,\n",
              " 'take': 285,\n",
              " 'time': 286,\n",
              " 'purchas': 287,\n",
              " 'share': 288,\n",
              " 'childhood': 289,\n",
              " 'lancast': 290,\n",
              " 'pennsylvania': 291,\n",
              " 'inc': 292,\n",
              " 'oldest': 293,\n",
              " 'confectioneri': 294,\n",
              " 'firm': 295,\n",
              " 'unit': 296,\n",
              " 'state': 297,\n",
              " 'subsidiari': 298,\n",
              " 'hershey': 299,\n",
              " 'compani': 300,\n",
              " 'establish': 301,\n",
              " 'young': 302,\n",
              " 'smyli': 303,\n",
              " 'appl': 304,\n",
              " 'twist': 305,\n",
              " 'green': 306,\n",
              " 'color': 307,\n",
              " 'blue': 308,\n",
              " 'raspberri': 309,\n",
              " 'keep': 310,\n",
              " 'dri': 311,\n",
              " 'cool': 312,\n",
              " 'place': 313,\n",
              " 'fridg': 314,\n",
              " 'accord': 315,\n",
              " 'guin': 316,\n",
              " 'book': 317,\n",
              " 'record': 318,\n",
              " 'longest': 319,\n",
              " 'ever': 320,\n",
              " 'measur': 321,\n",
              " 'feet': 322,\n",
              " 'kg': 323,\n",
              " 'break': 324,\n",
              " 'becam': 325,\n",
              " 'world': 326,\n",
              " 'juli': 327,\n",
              " 'kosher': 328,\n",
              " 'deliv': 329,\n",
              " 'fast': 330,\n",
              " 'reason': 331,\n",
              " 'bound': 332,\n",
              " 'unabl': 333,\n",
              " 'get': 334,\n",
              " 'store': 335,\n",
              " 'perfect': 336,\n",
              " 'addict': 337,\n",
              " 'amazon': 338,\n",
              " 'govern': 339,\n",
              " 'employe': 340,\n",
              " 'live': 341,\n",
              " 'oversea': 342,\n",
              " 'countri': 343,\n",
              " 'assign': 344,\n",
              " 'alway': 345,\n",
              " 'tasti': 346,\n",
              " 'manner': 347,\n",
              " 'current': 348,\n",
              " 'appar': 349,\n",
              " 'staff': 350,\n",
              " 'gener': 351,\n",
              " 'worth': 352,\n",
              " 'href': 353,\n",
              " 'http': 354,\n",
              " 'www': 355,\n",
              " 'com': 356,\n",
              " 'gp': 357,\n",
              " 'b': 358,\n",
              " 'gvisjm': 359,\n",
              " 'rememb': 360,\n",
              " 'drop': 361,\n",
              " 'still': 362,\n",
              " 'superb': 363,\n",
              " 'disappoint': 364,\n",
              " 'watcher': 365,\n",
              " 'crave': 366,\n",
              " 'yr': 367,\n",
              " 'miss': 368,\n",
              " 'visit': 369,\n",
              " 'someon': 370,\n",
              " 'stock': 371,\n",
              " 'say': 372,\n",
              " 'yum': 373,\n",
              " 'mexico': 374,\n",
              " 'faith': 375,\n",
              " 'buyer': 376,\n",
              " 'often': 377,\n",
              " 'abl': 378,\n",
              " 'receiv': 379,\n",
              " 'advertis': 380,\n",
              " 'plan': 381,\n",
              " 'glad': 382,\n",
              " 'carri': 383,\n",
              " 'batteri': 384,\n",
              " 'hard': 385,\n",
              " 'elsewher': 386,\n",
              " 'garag': 387,\n",
              " 'door': 388,\n",
              " 'open': 389,\n",
              " 'mum': 390,\n",
              " 'diabet': 391,\n",
              " 'intak': 392,\n",
              " 'father': 393,\n",
              " 'choos': 394,\n",
              " 'limit': 395,\n",
              " 'unnecessari': 396,\n",
              " 'tooth': 397,\n",
              " 'toffe': 398,\n",
              " 'guess': 399,\n",
              " 'free': 400,\n",
              " 'pretti': 401,\n",
              " 'guilt': 402,\n",
              " 'impress': 403,\n",
              " 'w': 404,\n",
              " 'dark': 405,\n",
              " 'chocol': 406,\n",
              " 'offic': 407,\n",
              " 'instead': 408,\n",
              " 'snack': 409,\n",
              " 'sugari': 410,\n",
              " 'excel': 411,\n",
              " 'huge': 412,\n",
              " 'coffe': 413,\n",
              " 'fan': 414,\n",
              " 'howev': 415,\n",
              " 'mother': 416,\n",
              " 'littl': 417,\n",
              " 'machin': 418,\n",
              " 'talk': 419,\n",
              " 'latt': 420,\n",
              " 'macciato': 421,\n",
              " 'shop': 422,\n",
              " 'usual': 423,\n",
              " 'non': 424,\n",
              " 'drinker': 425,\n",
              " 'dolch': 426,\n",
              " 'guesto': 427,\n",
              " 'super': 428,\n",
              " 'easi': 429,\n",
              " 'prepar': 430,\n",
              " 'cappuccino': 431,\n",
              " 'less': 432,\n",
              " 'minut': 433,\n",
              " 'water': 434,\n",
              " 'heat': 435,\n",
              " 'dolc': 436,\n",
              " 'gusto': 437,\n",
              " 'anyon': 438,\n",
              " 'offer': 439,\n",
              " 'staral': 440,\n",
              " 'mccann': 441,\n",
              " 'instant': 442,\n",
              " 'oatmeal': 443,\n",
              " 'must': 444,\n",
              " 'scrape': 445,\n",
              " 'three': 446,\n",
              " 'escap': 447,\n",
              " 'fact': 448,\n",
              " 'even': 449,\n",
              " 'best': 450,\n",
              " 'nowher': 451,\n",
              " 'near': 452,\n",
              " 'stovetop': 453,\n",
              " 'organ': 454,\n",
              " 'natur': 455,\n",
              " 'varieti': 456,\n",
              " 'microwav': 457,\n",
              " 'ad': 458,\n",
              " 'boil': 459,\n",
              " 'conveni': 460,\n",
              " 'extrem': 461,\n",
              " 'issu': 462,\n",
              " 'cane': 463,\n",
              " 'high': 464,\n",
              " 'fructos': 465,\n",
              " 'corn': 466,\n",
              " 'syrup': 467,\n",
              " 'help': 468,\n",
              " 'decid': 469,\n",
              " 'real': 470,\n",
              " 'harm': 471,\n",
              " 'stuff': 472,\n",
              " 'thing': 473,\n",
              " 'though': 474,\n",
              " 'thicken': 475,\n",
              " 'oat': 476,\n",
              " 'plu': 477,\n",
              " 'creami': 478,\n",
              " 'without': 479,\n",
              " 'guar': 480,\n",
              " 'gum': 481,\n",
              " 'mayb': 482,\n",
              " 'whi': 483,\n",
              " 'becom': 484,\n",
              " 'thick': 485,\n",
              " 'gluey': 486,\n",
              " 'fructous': 487,\n",
              " 'doe': 488,\n",
              " 'doctor': 489,\n",
              " 'form': 490,\n",
              " 'cold': 491,\n",
              " 'morn': 492,\n",
              " 'steel': 493,\n",
              " 'cinnamon': 494,\n",
              " 'mapl': 495,\n",
              " 'brown': 496,\n",
              " 'regular': 497,\n",
              " 'tell': 498,\n",
              " 'apart': 499,\n",
              " 'soggi': 500,\n",
              " 'hold': 501,\n",
              " 'textur': 502,\n",
              " 'meal': 503,\n",
              " 'may': 504,\n",
              " 'longer': 505,\n",
              " 'eaten': 506,\n",
              " 'close': 507,\n",
              " 'second': 508,\n",
              " 'irish': 509,\n",
              " 'count': 510,\n",
              " 'box': 511,\n",
              " 'thought': 512,\n",
              " 'give': 513,\n",
              " 'hardi': 514,\n",
              " 'folk': 515,\n",
              " 'post': 516,\n",
              " 'bariatr': 517,\n",
              " 'surgeri': 518,\n",
              " 'palat': 519,\n",
              " 'easili': 520,\n",
              " 'fiber': 521,\n",
              " 'bloat': 522,\n",
              " 'celiac': 523,\n",
              " 'diseas': 524,\n",
              " 'lifesav': 525,\n",
              " 'could': 526,\n",
              " 'almost': 527,\n",
              " 'half': 528,\n",
              " 'groceri': 529,\n",
              " 'health': 530,\n",
              " 'abbi': 531,\n",
              " 'els': 532,\n",
              " 'cup': 533,\n",
              " 'low': 534,\n",
              " 'fat': 535,\n",
              " 'milk': 536,\n",
              " 'add': 537,\n",
              " 'raisin': 538,\n",
              " 'nuke': 539,\n",
              " 'kroger': 540,\n",
              " 'tastier': 541,\n",
              " 'someth': 542,\n",
              " 'mmm': 543,\n",
              " 'friend': 544,\n",
              " 'nate': 545,\n",
              " 'storag': 546,\n",
              " 'room': 547,\n",
              " 'packet': 548,\n",
              " 'suggest': 549,\n",
              " 'stash': 550,\n",
              " 'sometim': 551,\n",
              " 'dose': 552,\n",
              " 'chanc': 553,\n",
              " 'end': 554,\n",
              " 'cinn': 555,\n",
              " 'tasteful': 556,\n",
              " 'goe': 557,\n",
              " 'j': 558,\n",
              " 'slice': 559,\n",
              " 'toast': 560,\n",
              " 'readi': 561,\n",
              " 'day': 562,\n",
              " 'least': 563,\n",
              " 'jerri': 564,\n",
              " 'reith': 565,\n",
              " 'wife': 566,\n",
              " 'reccomend': 567,\n",
              " 'happi': 568,\n",
              " 'eo': 569,\n",
              " 'qw': 570,\n",
              " 'cent': 571,\n",
              " 'per': 572,\n",
              " 'understand': 573,\n",
              " 'earth': 574,\n",
              " 'terrif': 575,\n",
              " 'follow': 576,\n",
              " 'tire': 577,\n",
              " 'ole': 578,\n",
              " 'pot': 579,\n",
              " 'empti': 580,\n",
              " 'pour': 581,\n",
              " 'expand': 582,\n",
              " 'x': 583,\n",
              " 'cheap': 584,\n",
              " 'connoisseur': 585,\n",
              " 'whether': 586,\n",
              " 'raw': 587,\n",
              " 'pellet': 588,\n",
              " 'cook': 589,\n",
              " 'hour': 590,\n",
              " 'sloth': 591,\n",
              " 'addl': 592,\n",
              " 'done': 593,\n",
              " 'beauti': 594,\n",
              " 'avail': 595,\n",
              " 'allow': 596,\n",
              " 'explor': 597,\n",
              " 'experi': 598,\n",
              " 'known': 599,\n",
              " 'thicker': 600,\n",
              " 'bodi': 601,\n",
              " 'top': 602,\n",
              " 'america': 603,\n",
              " 'tend': 604,\n",
              " 'liquidi': 605,\n",
              " 'watt': 606,\n",
              " 'twenti': 607,\n",
              " 'seven': 608,\n",
              " 'handl': 609,\n",
              " 'bad': 610,\n",
              " 'consid': 611,\n",
              " 'lot': 612,\n",
              " 'ten': 613,\n",
              " 'whole': 614,\n",
              " 'famili': 615,\n",
              " 'eater': 616,\n",
              " 'singl': 617,\n",
              " 'alon': 618,\n",
              " 'save': 619,\n",
              " 'choic': 620,\n",
              " 'overli': 621,\n",
              " 'breakfast': 622,\n",
              " 'anyth': 623,\n",
              " 'regularli': 624,\n",
              " 'seem': 625,\n",
              " 'wholesom': 626,\n",
              " 'supermarket': 627,\n",
              " 'somewhat': 628,\n",
              " 'mushi': 629,\n",
              " 'quit': 630,\n",
              " 'either': 631,\n",
              " 'pass': 632,\n",
              " 'muster': 633,\n",
              " 'probabl': 634,\n",
              " 'direct': 635,\n",
              " 'sinc': 636,\n",
              " 'come': 637,\n",
              " 'soupi': 638,\n",
              " 'see': 639,\n",
              " 'differc': 640,\n",
              " 'oaker': 641,\n",
              " 'fine': 642,\n",
              " 'ok': 643,\n",
              " 'big': 644,\n",
              " 'noth': 645,\n",
              " 'carb': 646,\n",
              " 'money': 647,\n",
              " 'quaker': 648,\n",
              " 'way': 649,\n",
              " 'bloodi': 650,\n",
              " 'mari': 651,\n",
              " 'mix': 652,\n",
              " 'seller': 653,\n",
              " 'work': 654,\n",
              " 'lol': 655,\n",
              " 'buddi': 656,\n",
              " 'im': 657,\n",
              " 'yet': 658,\n",
              " 'forev': 659,\n",
              " 'nice': 660,\n",
              " 'temp': 661,\n",
              " 'vermont': 662,\n",
              " 'weston': 663,\n",
              " 'along': 664,\n",
              " 'jaw': 665,\n",
              " 'harp': 666,\n",
              " 'cranberri': 667,\n",
              " 'horseradish': 668,\n",
              " 'fartless': 669,\n",
              " 'bean': 670,\n",
              " 'salsa': 671,\n",
              " 'cider': 672,\n",
              " 'jelli': 673,\n",
              " 'newton': 674,\n",
              " 'cradl': 675,\n",
              " 'art': 676,\n",
              " 'motion': 677,\n",
              " 'stapl': 678,\n",
              " 'ass': 679,\n",
              " 'kickin': 680,\n",
              " 'activ': 681,\n",
              " 'perspir': 682,\n",
              " 'gland': 683,\n",
              " 'behind': 684,\n",
              " 'ear': 685,\n",
              " 'arm': 686,\n",
              " 'beverag': 687,\n",
              " 'glass': 688,\n",
              " 'kleenex': 689,\n",
              " 'nose': 690,\n",
              " 'run': 691,\n",
              " 'ordinari': 692,\n",
              " 'alreadi': 693,\n",
              " 'idea': 694,\n",
              " 'suspect': 695,\n",
              " 'peopl': 696,\n",
              " 'goodi': 697,\n",
              " 'absenc': 698,\n",
              " 'especi': 699,\n",
              " 'colleagu': 700,\n",
              " 'greg': 701,\n",
              " 'earliest': 702,\n",
              " 'opportun': 703,\n",
              " 'content': 704,\n",
              " 'planter': 705,\n",
              " 'whose': 706,\n",
              " 'cri': 707,\n",
              " 'return': 708,\n",
              " 'shaken': 709,\n",
              " 'ensur': 710,\n",
              " 'spice': 711,\n",
              " 'evenli': 712,\n",
              " 'distribut': 713,\n",
              " 'import': 714,\n",
              " 'wash': 715,\n",
              " 'hand': 716,\n",
              " 'consumpt': 717,\n",
              " 'eye': 718,\n",
              " 'p': 719,\n",
              " 'deliber': 720,\n",
              " 'christma': 721,\n",
              " 'insult': 722,\n",
              " 'spici': 723,\n",
              " 'south': 724,\n",
              " 'texa': 725,\n",
              " 'doubt': 726,\n",
              " 'habanero': 727,\n",
              " 'notch': 728,\n",
              " 'roast': 729,\n",
              " 'stove': 730,\n",
              " 'popcorn': 731,\n",
              " 'popper': 732,\n",
              " 'outsid': 733,\n",
              " 'cours': 734,\n",
              " 'mexican': 735,\n",
              " 'altura': 736,\n",
              " 'suit': 737,\n",
              " 'method': 738,\n",
              " 'crack': 739,\n",
              " 'distinct': 740,\n",
              " 'medium': 741,\n",
              " 'slightli': 742,\n",
              " 'result': 743,\n",
              " 'aroma': 744,\n",
              " 'strong': 745,\n",
              " 'persist': 746,\n",
              " 'smooth': 747,\n",
              " 'velveti': 748,\n",
              " 'larg': 749,\n",
              " 'cast': 750,\n",
              " 'iron': 751,\n",
              " 'pan': 752,\n",
              " 'grill': 753,\n",
              " 'wonder': 754,\n",
              " 'importantli': 755,\n",
              " 'bitter': 756,\n",
              " 'aftertast': 757,\n",
              " 'numer': 758,\n",
              " 'occas': 759,\n",
              " 'send': 760,\n",
              " 'awesom': 761,\n",
              " 'befor': 762,\n",
              " 'halloween': 763,\n",
              " 'indic': 764,\n",
              " 'enough': 765,\n",
              " 'trick': 766,\n",
              " 'treater': 767,\n",
              " 'local': 768,\n",
              " 'everyth': 769,\n",
              " 'kit': 770,\n",
              " 'kat': 771,\n",
              " 'rees': 772,\n",
              " 'plenti': 773,\n",
              " 'ship': 774,\n",
              " 'promptli': 775,\n",
              " 'neighborhood': 776,\n",
              " 'sent': 777,\n",
              " 'class': 778,\n",
              " 'gold': 779,\n",
              " 'target': 780,\n",
              " 'onlin': 781,\n",
              " 'cheaper': 782,\n",
              " 'compet': 783,\n",
              " 'endurolyt': 784,\n",
              " 'pill': 785,\n",
              " 'long': 786,\n",
              " 'desert': 787,\n",
              " 'ride': 788,\n",
              " 'dirt': 789,\n",
              " 'bike': 790,\n",
              " 'camelbak': 791,\n",
              " 'heavili': 792,\n",
              " 'lace': 793,\n",
              " 'effect': 794,\n",
              " 'cramp': 795,\n",
              " 'hundr': 796,\n",
              " 'mile': 797,\n",
              " 'race': 798,\n",
              " 'buggi': 799,\n",
              " 'fizz': 800,\n",
              " 'firstli': 801,\n",
              " 'hammer': 802,\n",
              " 'endur': 803,\n",
              " 'athlet': 804,\n",
              " 'handli': 805,\n",
              " 'tablet': 806,\n",
              " 'dissovl': 807,\n",
              " 'third': 808,\n",
              " 'imagin': 809,\n",
              " 'drink': 810,\n",
              " 'starv': 811,\n",
              " 'hydrat': 812,\n",
              " 'electrolyt': 813,\n",
              " 'rather': 814,\n",
              " 'salti': 815,\n",
              " 'refresh': 816,\n",
              " 'lemon': 817,\n",
              " 'lime': 818,\n",
              " 'mango': 819,\n",
              " 'whenev': 820,\n",
              " 'exercis': 821,\n",
              " 'chock': 822,\n",
              " 'sourc': 823,\n",
              " 'dure': 824,\n",
              " 'grapefruit': 825,\n",
              " 'slight': 826,\n",
              " 'carbon': 827,\n",
              " 'line': 828,\n",
              " 'prevent': 829,\n",
              " 'middl': 830,\n",
              " 'latter': 831,\n",
              " 'stage': 832,\n",
              " 'pop': 833,\n",
              " 'set': 834,\n",
              " 'diet': 835,\n",
              " 'ago': 836,\n",
              " 'start': 837,\n",
              " 'cycl': 838,\n",
              " 'heart': 839,\n",
              " 'arrhythmia': 840,\n",
              " 'plain': 841,\n",
              " 'research': 842,\n",
              " 'might': 843,\n",
              " 'gatorad': 844,\n",
              " 'option': 845,\n",
              " 'load': 846,\n",
              " 'carbohydr': 847,\n",
              " 'altern': 848,\n",
              " 'zero': 849,\n",
              " 'sport': 850,\n",
              " 'ran': 851,\n",
              " 'across': 852,\n",
              " 'tube': 853,\n",
              " 'voila': 854,\n",
              " 'problem': 855,\n",
              " 'solv': 856,\n",
              " 'leg': 857,\n",
              " 'resolv': 858,\n",
              " 'superbl': 859,\n",
              " 'formul': 860,\n",
              " 'hint': 861,\n",
              " 'consum': 862,\n",
              " 'variou': 863,\n",
              " 'nutrit': 864,\n",
              " 'decad': 865,\n",
              " 'appeal': 866,\n",
              " 'terribl': 867,\n",
              " 'sip': 868,\n",
              " 'impuls': 869,\n",
              " 'wrong': 870,\n",
              " 'babi': 871,\n",
              " 'retrospect': 872,\n",
              " 'ridicul': 873,\n",
              " 'esp': 874,\n",
              " 'sooooo': 875,\n",
              " 'delisci': 876,\n",
              " 'ate': 877,\n",
              " 'em': 878,\n",
              " 'gain': 879,\n",
              " 'pd': 880,\n",
              " 'fault': 881,\n",
              " 'albanes': 882,\n",
              " 'gummi': 883,\n",
              " 'bear': 884,\n",
              " 'ring': 885,\n",
              " 'face': 886,\n",
              " 'type': 887,\n",
              " 'snake': 888,\n",
              " 'ball': 889,\n",
              " 'worm': 890,\n",
              " 'whatev': 891,\n",
              " 'lb': 892,\n",
              " 'twin': 893,\n",
              " 'scream': 894,\n",
              " 'far': 895,\n",
              " 'concern': 896,\n",
              " 'deep': 897,\n",
              " 'friggin': 898,\n",
              " 'area': 899,\n",
              " 'think': 900,\n",
              " 'lie': 901,\n",
              " 'bigger': 902,\n",
              " 'sour': 903,\n",
              " 'kick': 904,\n",
              " 'anoth': 905,\n",
              " 'opinion': 906,\n",
              " 'popsicl': 907,\n",
              " 'softer': 908,\n",
              " 'frozen': 909,\n",
              " 'latic': 910,\n",
              " 'tart': 911,\n",
              " 'directli': 912,\n",
              " 'fantasicak': 913,\n",
              " 'websit': 914,\n",
              " 'dinner': 915,\n",
              " 'host': 916,\n",
              " 'intact': 917,\n",
              " 'froze': 918,\n",
              " 'later': 919,\n",
              " 'pastri': 920,\n",
              " 'jam': 921,\n",
              " 'gone': 922,\n",
              " 'guest': 923,\n",
              " 'bewar': 924,\n",
              " 'pleas': 925,\n",
              " 'sweeten': 926,\n",
              " 'everybodi': 927,\n",
              " 'maltitol': 928,\n",
              " 'alcohol': 929,\n",
              " 'undigest': 930,\n",
              " 'short': 931,\n",
              " 'unsuspect': 932,\n",
              " 'intestin': 933,\n",
              " 'massiv': 934,\n",
              " 'ga': 935,\n",
              " 'nausea': 936,\n",
              " 'diarrhea': 937,\n",
              " 'headach': 938,\n",
              " 'experienc': 939,\n",
              " 'learn': 940,\n",
              " 'lesson': 941,\n",
              " 'fell': 942,\n",
              " 'suzann': 943,\n",
              " 'sommer': 944,\n",
              " 'nirvana': 945,\n",
              " 'bliss': 946,\n",
              " 'side': 947,\n",
              " 'discomfort': 948,\n",
              " 'unlik': 949,\n",
              " 'felt': 950,\n",
              " 'blew': 951,\n",
              " 'balloon': 952,\n",
              " 'pain': 953,\n",
              " 'abdomin': 954,\n",
              " 'symptom': 955,\n",
              " 'unpleas': 956,\n",
              " 'calori': 957,\n",
              " 'culprit': 958,\n",
              " 'stop': 959,\n",
              " 'hunch': 960,\n",
              " 'confirm': 961,\n",
              " 'market': 962,\n",
              " 'possibl': 963,\n",
              " 'sugarfre': 964,\n",
              " 'sank': 965,\n",
              " 'asterisk': 966,\n",
              " 'next': 967,\n",
              " 'bottom': 968,\n",
              " 'read': 969,\n",
              " 'letter': 970,\n",
              " 'shorter': 971,\n",
              " 'durat': 972,\n",
              " 'reaction': 973,\n",
              " 'okay': 974,\n",
              " 'tea': 975,\n",
              " 'brunch': 976,\n",
              " 'artifi': 977,\n",
              " 'wast': 978,\n",
              " 'buck': 979,\n",
              " 'trail': 980,\n",
              " 'solid': 981,\n",
              " 'mass': 982,\n",
              " 'melt': 983,\n",
              " 'left': 984,\n",
              " 'pantri': 985,\n",
              " 'temperatur': 986,\n",
              " 'gooey': 987,\n",
              " 'hunk': 988,\n",
              " 'graini': 989,\n",
              " 'solidifi': 990,\n",
              " 'agre': 991,\n",
              " 'regard': 992,\n",
              " 'summer': 993,\n",
              " 'insul': 994,\n",
              " 'ice': 995,\n",
              " 'warm': 996,\n",
              " 'weather': 997,\n",
              " 'item': 998,\n",
              " 'berri': 999,\n",
              " ...}"
            ]
          },
          "metadata": {},
          "execution_count": 125
        }
      ]
    },
    {
      "cell_type": "markdown",
      "source": [
        "SAVE THE VOCAB"
      ],
      "metadata": {
        "id": "n_DmMPO5nS5U"
      }
    },
    {
      "cell_type": "code",
      "source": [
        "import json\n",
        "\n",
        "json_str = json.dumps(vocab)\n",
        "\n",
        "with open('Vocab80000.json', 'w') as f:\n",
        "    f.write(json_str)"
      ],
      "metadata": {
        "id": "IOz0CDo3oExw"
      },
      "execution_count": null,
      "outputs": []
    },
    {
      "cell_type": "code",
      "source": [
        "len(vocab)"
      ],
      "metadata": {
        "colab": {
          "base_uri": "https://localhost:8080/"
        },
        "id": "FTvBsSwDQwgW",
        "outputId": "14dbe87c-7ef0-407e-c5b3-21e972d38814"
      },
      "execution_count": null,
      "outputs": [
        {
          "output_type": "execute_result",
          "data": {
            "text/plain": [
              "80011"
            ]
          },
          "metadata": {},
          "execution_count": 126
        }
      ]
    },
    {
      "cell_type": "markdown",
      "source": [
        "GETTING THE VOCAB WORDS FROM EACH DATA"
      ],
      "metadata": {
        "id": "0eCrqBzAnW8Z"
      }
    },
    {
      "cell_type": "code",
      "source": [
        "X_indexed = [[vocab[word] for word in sentence] for sentence in X_tokenized]"
      ],
      "metadata": {
        "id": "IqjGGS0415Fv"
      },
      "execution_count": null,
      "outputs": []
    },
    {
      "cell_type": "markdown",
      "source": [
        "FIND AND DROP THE OUTLIER"
      ],
      "metadata": {
        "id": "JjEezHs8mZJ6"
      }
    },
    {
      "cell_type": "code",
      "source": [
        "index = None\n",
        "for i, x in enumerate(X_indexed):\n",
        "    if len(x) == 0:\n",
        "        index = i\n",
        "        break\n",
        "\n",
        "if index is not None:\n",
        "    print(f\"The index of the element with length 0 is {index}.\")\n",
        "else:\n",
        "    print(\"No element with length 0 was found.\")\n"
      ],
      "metadata": {
        "colab": {
          "base_uri": "https://localhost:8080/"
        },
        "id": "S7f3X2pORU3q",
        "outputId": "a0d5e7a9-d295-467a-cfbb-c6c75c6d5e4a"
      },
      "execution_count": null,
      "outputs": [
        {
          "output_type": "stream",
          "name": "stdout",
          "text": [
            "No element with length 0 was found.\n"
          ]
        }
      ]
    },
    {
      "cell_type": "code",
      "source": [
        "df.iloc[233938]"
      ],
      "metadata": {
        "colab": {
          "base_uri": "https://localhost:8080/"
        },
        "id": "cRMPKXPeRfeC",
        "outputId": "9490c546-0850-4586-a77c-8b9e0f280c8d"
      },
      "execution_count": null,
      "outputs": [
        {
          "output_type": "execute_result",
          "data": {
            "text/plain": [
              "Score                                                         5\n",
              "Text          &#1056;&#1077;&#1096;&#1080;&#1083;&#1072; &#1...\n",
              "Clean_Text                                                  NaN\n",
              "label                                                         1\n",
              "Name: 233938, dtype: object"
            ]
          },
          "metadata": {},
          "execution_count": 119
        }
      ]
    },
    {
      "cell_type": "code",
      "source": [
        "df = df.drop(233938)"
      ],
      "metadata": {
        "id": "FZts8VjjSBiQ"
      },
      "execution_count": null,
      "outputs": []
    },
    {
      "cell_type": "markdown",
      "source": [
        "BUCKETTING"
      ],
      "metadata": {
        "id": "H9oY5orNmk5p"
      }
    },
    {
      "cell_type": "code",
      "source": [
        "from collections import defaultdict\n",
        "\n",
        "bucketed_X = defaultdict(list)\n",
        "for i, x in enumerate(X_indexed):\n",
        "    bucketed_X[len(x)].append(i)"
      ],
      "metadata": {
        "id": "MNmOunFo15Dj"
      },
      "execution_count": null,
      "outputs": []
    },
    {
      "cell_type": "markdown",
      "source": [
        "BATCHING"
      ],
      "metadata": {
        "id": "qcxuyevIp-9q"
      }
    },
    {
      "cell_type": "code",
      "source": [
        "batch_indices = []\n",
        "for _, sequence_indices in bucketed_X.items():\n",
        "    batch_indices.extend([sequence_indices[i:i+32] for i in range(0, len(sequence_indices), 32)])"
      ],
      "metadata": {
        "id": "iLIsevPf15Bb"
      },
      "execution_count": null,
      "outputs": []
    },
    {
      "cell_type": "code",
      "source": [
        "X_batched = []\n",
        "for batch in batch_indices:\n",
        "    sequences = [X_indexed[i] for i in batch]\n",
        "\n",
        "    padded = pad_sequence([torch.LongTensor(x) for x in sequences], batch_first=True)\n",
        "    X_batched.append(padded)"
      ],
      "metadata": {
        "id": "K1UfJxbB14_K"
      },
      "execution_count": null,
      "outputs": []
    },
    {
      "cell_type": "markdown",
      "source": [
        "GET THE INDEX OF THE DATA"
      ],
      "metadata": {
        "id": "_k_jTBZXqJwR"
      }
    },
    {
      "cell_type": "code",
      "source": [
        "from torch.utils.data import Dataset, DataLoader\n",
        "\n",
        "class TextDataset(Dataset):\n",
        "    def __init__(self, X, y):\n",
        "        self.X = X\n",
        "        self.y = y\n",
        "\n",
        "    def __len__(self):\n",
        "        return len(self.X)\n",
        "\n",
        "    def __getitem__(self, idx):\n",
        "        return self.X[idx], self.y[idx]"
      ],
      "metadata": {
        "id": "RKckg4s0RfgP"
      },
      "execution_count": null,
      "outputs": []
    },
    {
      "cell_type": "markdown",
      "source": [
        "TRAIN DATASET"
      ],
      "metadata": {
        "id": "sL6n2mgnqOAT"
      }
    },
    {
      "cell_type": "code",
      "source": [
        "dataset = TextDataset(X_batched, torch.tensor(y))\n",
        "dataloader = DataLoader(dataset, batch_size=1, shuffle=True)"
      ],
      "metadata": {
        "id": "5o7u5TQl2H5B"
      },
      "execution_count": null,
      "outputs": []
    },
    {
      "cell_type": "markdown",
      "source": [
        "MODEL (LSTM)"
      ],
      "metadata": {
        "id": "fD9_aTLBmJIY"
      }
    },
    {
      "cell_type": "code",
      "source": [
        "class LSTMModel(torch.nn.Module):\n",
        "    def __init__(self, vocab_size, embedding_dim, hidden_dim, num_layers):\n",
        "        super().__init__()\n",
        "        self.embedding = torch.nn.Embedding(vocab_size, embedding_dim)\n",
        "        self.lstm = torch.nn.LSTM(embedding_dim, hidden_dim, num_layers=num_layers, batch_first=True)\n",
        "        self.fc = torch.nn.Linear(hidden_dim, 1)\n",
        "\n",
        "    def forward(self, x):\n",
        "        embedded = self.embedding(x)\n",
        "        output, (hidden, cell) = self.lstm(embedded)\n",
        "        logits = self.fc(hidden[-1])\n",
        "        return torch.sigmoid(logits)"
      ],
      "metadata": {
        "id": "fNnbI2MJ2H1d"
      },
      "execution_count": null,
      "outputs": []
    },
    {
      "cell_type": "code",
      "source": [
        "model = LSTMModel(len(vocab), 100, 50, 2)"
      ],
      "metadata": {
        "id": "FWtSMPx92HzL"
      },
      "execution_count": null,
      "outputs": []
    },
    {
      "cell_type": "markdown",
      "source": [
        "LOSS FUNCTION AND OPTIMIZER"
      ],
      "metadata": {
        "id": "OgCOPBTMmM4l"
      }
    },
    {
      "cell_type": "code",
      "source": [
        "criterion = torch.nn.BCELoss()\n",
        "optimizer = torch.optim.Adam(model.parameters(), lr=0.01)"
      ],
      "metadata": {
        "id": "QpRl9b6g2PTv"
      },
      "execution_count": null,
      "outputs": []
    },
    {
      "cell_type": "code",
      "source": [
        "from datetime import datetime\n",
        "import numpy as np"
      ],
      "metadata": {
        "id": "MzSLeITPJJHe"
      },
      "execution_count": null,
      "outputs": []
    },
    {
      "cell_type": "markdown",
      "source": [
        "TRAIN WITH 10000 DATA (model2)"
      ],
      "metadata": {
        "id": "idCsK4YRnEnC"
      }
    },
    {
      "cell_type": "code",
      "source": [
        "device = torch.device(\"cuda\" if torch.cuda.is_available() else \"cpu\")\n",
        "model = model.to(device)\n",
        "dt = 0\n",
        "t0 = 0\n",
        "train_losses = np.zeros(10)\n",
        "train_accs = np.zeros(10)\n",
        "\n",
        "for epoch in range(10):\n",
        "    t0 = datetime.now()\n",
        "    train_loss = []\n",
        "    train_acc = []\n",
        "    model.train()\n",
        "    for X_batch, y_batch in dataloader:\n",
        "\n",
        "        X_batch = X_batch.to(device)\n",
        "        X_batch = X_batch.flatten()\n",
        "        y_batch = y_batch.float().to(device)\n",
        "        optimizer.zero_grad()\n",
        "        output = model(X_batch)\n",
        "        loss = criterion(output, y_batch)  #squeeze()\n",
        "        loss.backward()\n",
        "        optimizer.step()\n",
        "        train_loss.append(loss.item())\n",
        "        # print('train loss', loss.item())\n",
        "        train_acc.append(((output.squeeze()>0.5).float() == y_batch.squeeze()).float().mean().item())  # add squeeze() here\n",
        "        # print('train acc', (output.squeeze()>0.5).float() == y_batch.squeeze())\n",
        "        # dt = datetime.now() - t0\n",
        "        # print('dt', dt)\n",
        "    train_loss = np.mean(train_loss)\n",
        "    train_losses[epoch] = train_loss\n",
        "    train_acc = np.mean(train_acc)\n",
        "    train_accs[epoch] =train_acc\n",
        "    dt = datetime.now() - t0\n",
        "    print(f\"Epoch {epoch+1}, Train Loss: {train_loss:.4f}, Train Acc: {train_acc:.4f}, duration: {dt}\")"
      ],
      "metadata": {
        "colab": {
          "base_uri": "https://localhost:8080/"
        },
        "id": "F44QXJ1PBJjw",
        "outputId": "3b2cf7a4-f2fa-4667-d942-ad20eda71d33"
      },
      "execution_count": null,
      "outputs": [
        {
          "output_type": "stream",
          "name": "stdout",
          "text": [
            "Epoch 1, Train Loss: 0.2559, Train Acc: 0.9051, duration: 0:01:35.319899\n",
            "Epoch 2, Train Loss: 0.1893, Train Acc: 0.9282, duration: 0:01:42.127701\n",
            "Epoch 3, Train Loss: 0.0824, Train Acc: 0.9667, duration: 0:01:34.753130\n",
            "Epoch 4, Train Loss: 0.0297, Train Acc: 0.9872, duration: 0:01:39.759399\n",
            "Epoch 5, Train Loss: 0.0148, Train Acc: 0.9949, duration: 0:01:37.326059\n",
            "Epoch 6, Train Loss: 0.0068, Train Acc: 0.9974, duration: 0:01:35.432388\n",
            "Epoch 7, Train Loss: 0.0064, Train Acc: 0.9949, duration: 0:01:37.659487\n",
            "Epoch 8, Train Loss: 0.0053, Train Acc: 0.9974, duration: 0:01:37.172830\n",
            "Epoch 9, Train Loss: 0.0049, Train Acc: 0.9974, duration: 0:01:36.697759\n",
            "Epoch 10, Train Loss: 0.0047, Train Acc: 0.9974, duration: 0:01:51.815861\n"
          ]
        }
      ]
    },
    {
      "cell_type": "markdown",
      "source": [
        "LOSS AND ACCURACY PLOT FOR 10000 DATA"
      ],
      "metadata": {
        "id": "JxL_-ztlmADu"
      }
    },
    {
      "cell_type": "code",
      "source": [
        "import matplotlib.pyplot as plt\n",
        "\n",
        "plt.plot(train_losses, label = 'train loss', color = 'red')\n",
        "plt.plot(train_accs, label = 'train accuracy', color = 'black')\n",
        "plt.legend()\n",
        "plt.show();"
      ],
      "metadata": {
        "colab": {
          "base_uri": "https://localhost:8080/",
          "height": 430
        },
        "id": "xdx5xWpDk_lG",
        "outputId": "53965e81-fe74-45e2-f92a-f1034895a443"
      },
      "execution_count": null,
      "outputs": [
        {
          "output_type": "display_data",
          "data": {
            "text/plain": [
              "<Figure size 640x480 with 1 Axes>"
            ],
            "image/png": "[encoded data removed]"
          },
          "metadata": {}
        }
      ]
    },
    {
      "cell_type": "markdown",
      "source": [
        "SPLIT THE DATASET"
      ],
      "metadata": {
        "id": "YI9pilDWltgq"
      }
    },
    {
      "cell_type": "code",
      "source": [
        "dataset = TextDataset(X_batched, torch.tensor(y))\n",
        "\n",
        "train_size = int(0.8 * len(dataset))\n",
        "test_size = len(dataset) - train_size\n",
        "train_dataset, test_dataset = torch.utils.data.random_split(dataset, [train_size, test_size])\n",
        "\n",
        "train_dataloader = DataLoader(train_dataset, batch_size=1, shuffle=True)\n",
        "test_dataloader = DataLoader(test_dataset, batch_size=1, shuffle=False)"
      ],
      "metadata": {
        "id": "r6nUksgim2sf"
      },
      "execution_count": null,
      "outputs": []
    },
    {
      "cell_type": "markdown",
      "source": [
        "DEVICE"
      ],
      "metadata": {
        "id": "P6PVIyXQlyDf"
      }
    },
    {
      "cell_type": "code",
      "source": [
        "device = torch.device(\"cuda\" if torch.cuda.is_available() else \"cpu\")\n",
        "model = model.to(device)"
      ],
      "metadata": {
        "id": "YpG1pvrTJLC8"
      },
      "execution_count": null,
      "outputs": []
    },
    {
      "cell_type": "code",
      "source": [
        "device"
      ],
      "metadata": {
        "id": "FksKV7mgJO46",
        "colab": {
          "base_uri": "https://localhost:8080/"
        },
        "outputId": "c9625bfe-03d7-41a6-c224-921b19fce54e"
      },
      "execution_count": null,
      "outputs": [
        {
          "output_type": "execute_result",
          "data": {
            "text/plain": [
              "device(type='cuda')"
            ]
          },
          "metadata": {},
          "execution_count": 139
        }
      ]
    },
    {
      "cell_type": "markdown",
      "source": [
        "TRAINING LOOP"
      ],
      "metadata": {
        "id": "m4-7oYJvlzzM"
      }
    },
    {
      "cell_type": "code",
      "source": [
        "def batch_gd(model, criterion, optimizer, train_dataloader, test_dataloader, epoch):\n",
        "  train_losses = np.zeros(epoch)\n",
        "  test_losses = np.zeros(epoch)\n",
        "\n",
        "  for it in range(epoch):\n",
        "    t0 = datetime.now()\n",
        "\n",
        "    train_loss = []\n",
        "    for X_batch, y_batch in train_dataloader:\n",
        "      X_batch = X_batch.to(device)\n",
        "      X_batch = X_batch.flatten()\n",
        "      y_batch = y_batch.float().to(device)\n",
        "\n",
        "      optimizer.zero_grad()\n",
        "      outputs = model(X_batch)\n",
        "      loss = criterion(outputs, y_batch)\n",
        "      loss.backward()\n",
        "      optimizer.step()\n",
        "\n",
        "      train_loss.append(loss.item())\n",
        "    train_loss = np.mean(train_loss)\n",
        "\n",
        "    test_loss = []\n",
        "\n",
        "    for X_batch, y_batch in test_dataloader:\n",
        "      X_batch = X_batch.to(device)\n",
        "      X_batch = X_batch.flatten()\n",
        "      y_batch = y_batch.float().to(device)\n",
        "\n",
        "      outputs = model(X_batch)\n",
        "      loss = criterion(outputs, y_batch)\n",
        "      test_loss.append(loss.item())\n",
        "\n",
        "    test_loss = np.mean(test_loss)\n",
        "\n",
        "    train_losses[it] = train_loss\n",
        "    test_losses[it] = test_loss\n",
        "\n",
        "    dt = datetime.now() - t0\n",
        "    print(f'Epoch {it + 1} / {epoch}, Train loss: {train_loss:.4f},\\\n",
        "     Test loss: {test_loss:.4f}, Duration: {dt}')\n",
        "  return train_losses, test_losses"
      ],
      "metadata": {
        "id": "gjjf_v-9mxxK"
      },
      "execution_count": null,
      "outputs": []
    },
    {
      "cell_type": "markdown",
      "source": [
        "TRAINING ON THE WHOLE DATASET"
      ],
      "metadata": {
        "id": "8Q7jNMcqD5vO"
      }
    },
    {
      "cell_type": "code",
      "source": [
        "train_losses, test_losses = batch_gd(\n",
        "    model, criterion, optimizer, train_dataloader, test_dataloader, epoch = 25\n",
        ")"
      ],
      "metadata": {
        "colab": {
          "base_uri": "https://localhost:8080/"
        },
        "id": "v_920V3LDz7B",
        "outputId": "097310f7-e2fd-4d2e-e418-8ac566ca2ba1"
      },
      "execution_count": null,
      "outputs": [
        {
          "output_type": "stream",
          "name": "stdout",
          "text": [
            "Epoch 1 / 25, Train loss: 0.4235,     Test loss: 0.4311, Duration: 0:02:45.330751\n",
            "Epoch 2 / 25, Train loss: 0.4171,     Test loss: 0.4430, Duration: 0:02:44.453604\n",
            "Epoch 3 / 25, Train loss: 0.4119,     Test loss: 0.4506, Duration: 0:02:45.401951\n",
            "Epoch 4 / 25, Train loss: 0.4102,     Test loss: 0.4383, Duration: 0:02:45.024131\n",
            "Epoch 5 / 25, Train loss: 0.4094,     Test loss: 0.4465, Duration: 0:02:44.773740\n",
            "Epoch 6 / 25, Train loss: 0.4054,     Test loss: 0.4426, Duration: 0:02:44.685703\n",
            "Epoch 7 / 25, Train loss: 0.4033,     Test loss: 0.4668, Duration: 0:02:45.433844\n",
            "Epoch 8 / 25, Train loss: 0.4033,     Test loss: 0.4758, Duration: 0:02:44.441817\n",
            "Epoch 9 / 25, Train loss: 0.4059,     Test loss: 0.4569, Duration: 0:02:44.570650\n",
            "Epoch 10 / 25, Train loss: 0.4025,     Test loss: 0.4541, Duration: 0:02:44.244223\n",
            "Epoch 11 / 25, Train loss: 0.3972,     Test loss: 0.5297, Duration: 0:02:45.469799\n",
            "Epoch 12 / 25, Train loss: 0.3974,     Test loss: 0.4459, Duration: 0:02:56.843669\n",
            "Epoch 13 / 25, Train loss: 0.4017,     Test loss: 0.5319, Duration: 0:03:14.394877\n",
            "Epoch 14 / 25, Train loss: 0.3983,     Test loss: 0.4882, Duration: 0:03:03.490475\n",
            "Epoch 15 / 25, Train loss: 0.3977,     Test loss: 0.4618, Duration: 0:03:00.400540\n",
            "Epoch 16 / 25, Train loss: 0.3968,     Test loss: 0.4461, Duration: 0:03:06.938898\n",
            "Epoch 17 / 25, Train loss: 0.3968,     Test loss: 0.4676, Duration: 0:02:53.889365\n",
            "Epoch 18 / 25, Train loss: 0.3946,     Test loss: 0.4534, Duration: 0:02:45.710191\n",
            "Epoch 19 / 25, Train loss: 0.3960,     Test loss: 0.4614, Duration: 0:02:46.694495\n",
            "Epoch 20 / 25, Train loss: 0.4011,     Test loss: 0.4663, Duration: 0:02:47.165750\n",
            "Epoch 21 / 25, Train loss: 0.3950,     Test loss: 0.4494, Duration: 0:02:55.501010\n",
            "Epoch 22 / 25, Train loss: 0.4009,     Test loss: 0.4601, Duration: 0:02:44.946509\n",
            "Epoch 23 / 25, Train loss: 0.3983,     Test loss: 0.4683, Duration: 0:02:45.413274\n",
            "Epoch 24 / 25, Train loss: 0.4024,     Test loss: 0.4709, Duration: 0:02:44.270237\n",
            "Epoch 25 / 25, Train loss: 0.3996,     Test loss: 0.4707, Duration: 0:02:44.628141\n"
          ]
        }
      ]
    },
    {
      "cell_type": "markdown",
      "source": [
        "LOSSES PLOT"
      ],
      "metadata": {
        "id": "Rc5smz-VleSO"
      }
    },
    {
      "cell_type": "code",
      "source": [
        "import matplotlib.pyplot as plt\n",
        "\n",
        "plt.plot(train_losses, label = 'train loss')\n",
        "plt.plot(test_losses, label = 'test loss')\n",
        "plt.legend()\n",
        "plt.show();"
      ],
      "metadata": {
        "id": "tZdxYJOPBCST",
        "colab": {
          "base_uri": "https://localhost:8080/",
          "height": 430
        },
        "outputId": "3424f1f4-409d-4f5b-bf42-a703f3b9b963"
      },
      "execution_count": null,
      "outputs": [
        {
          "output_type": "display_data",
          "data": {
            "text/plain": [
              "<Figure size 640x480 with 1 Axes>"
            ],
            "image/png": "[encoded data removed]"
          },
          "metadata": {}
        }
      ]
    },
    {
      "cell_type": "markdown",
      "source": [
        "ACCURACY"
      ],
      "metadata": {
        "id": "XQlHX73qy6PL"
      }
    },
    {
      "cell_type": "code",
      "source": [
        "n_correct = 0\n",
        "n_total = 0\n",
        "\n",
        "for inputs, targets in train_dataloader:\n",
        "  inputs, targets = inputs.to(device), targets.to(device)\n",
        "  inputs = inputs.flatten()\n",
        "\n",
        "  outputs = model(inputs)\n",
        "  if outputs >= 0.5:\n",
        "    outputs = 1\n",
        "  else:\n",
        "    outputs = 0\n",
        "\n",
        "  # _, predictions = torch.max(outputs, 1)\n",
        "\n",
        "  n_correct += (outputs == targets).sum().item()\n",
        "  n_total += targets.shape[0]\n",
        "\n",
        "train_acc = n_correct / n_total\n",
        "\n",
        "n_correct = 0\n",
        "n_total = 0\n",
        "\n",
        "for inputs, outputs in test_dataloader:\n",
        "  inputs, targets = inputs.to(device), targets.to(device)\n",
        "  inputs = inputs.flatten()\n",
        "  outputs = model(inputs)\n",
        "  if outputs >= 0.5:\n",
        "    outputs = 1\n",
        "  else:\n",
        "    outputs = 0\n",
        "  # _, predictions = torch.max(outputs, 1)\n",
        "\n",
        "  n_correct += (outputs == targets).sum().item()\n",
        "  n_total += targets.shape[0]\n",
        "\n",
        "test_acc = n_correct / n_total\n",
        "\n",
        "print(f'train accuracy: {train_acc:.4f} \\n test accuracy: {test_acc:.4f}')"
      ],
      "metadata": {
        "id": "2sf2B-BcBF9n",
        "colab": {
          "base_uri": "https://localhost:8080/"
        },
        "outputId": "6064fbf5-1153-4c28-f93a-8681e21f4ef3"
      },
      "execution_count": null,
      "outputs": [
        {
          "output_type": "stream",
          "name": "stdout",
          "text": [
            "train accuracy: 0.8655 \n",
            " test accuracy: 0.9629\n"
          ]
        }
      ]
    },
    {
      "cell_type": "markdown",
      "source": [
        "SAVE AND LOAD THE MODEL"
      ],
      "metadata": {
        "id": "ykJ3Id4ulXuQ"
      }
    },
    {
      "cell_type": "code",
      "source": [
        "torch.save({\n",
        "    'model_state_dict': model.state_dict(),\n",
        "    'optimizer_state_dict': optimizer.state_dict(),\n",
        "}, 'model.pth')"
      ],
      "metadata": {
        "id": "jUzjo-MK8i0K"
      },
      "execution_count": null,
      "outputs": []
    },
    {
      "cell_type": "code",
      "source": [
        "# Load the saved model\n",
        "checkpoint = torch.load('model.pth')\n",
        "trained_model = model.load_state_dict(checkpoint['model_state_dict'])"
      ],
      "metadata": {
        "id": "qeH1Fe9KQgQU"
      },
      "execution_count": null,
      "outputs": []
    },
    {
      "cell_type": "markdown",
      "source": [
        "NEW DATA PREDICTION"
      ],
      "metadata": {
        "id": "yxxkNxWEh5Mn"
      }
    },
    {
      "cell_type": "code",
      "source": [
        "new_data = 'this product is amazing!'\n",
        "\n",
        "# model = LSTMModel(len(vocab), 100, 64, 2)\n",
        "prediction = 'none'\n",
        "with torch.no_grad():\n",
        "  # trained_model.to(device)\n",
        "  tokens = review_to_words(new_data)\n",
        "  print('Tokens: ',tokens)\n",
        "  model.to(device)\n",
        "  indices = [vocab[token] for token in tokens]\n",
        "  tensor = torch.LongTensor(indices).unsqueeze(0).to(device)\n",
        "  output = model(tensor) #trained_model\n",
        "  if outputs >= 0.5:\n",
        "    outputs = 1\n",
        "  else:\n",
        "    outputs = 0\n",
        "\n",
        "  _, predicted = torch.max(output.data, 1)\n",
        "  if predicted.item() == 1:\n",
        "    prediction = 'positive'\n",
        "  else:\n",
        "    prediction = 'negative'\n",
        "\n",
        "# Print the predicted class\n",
        "print('Predicted class:', prediction)"
      ],
      "metadata": {
        "id": "3-Oevdup3cei"
      },
      "execution_count": null,
      "outputs": []
    }
  ]
}
