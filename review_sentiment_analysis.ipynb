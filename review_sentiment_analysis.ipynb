{
 "cells": [
  {
   "cell_type": "markdown",
   "metadata": {
    "id": "7cixkSi_mnUO"
   },
   "source": [
    "Preprocessing"
   ]
  },
  {
   "cell_type": "code",
   "execution_count": null,
   "metadata": {
    "id": "uhLotRTwqSDS"
   },
   "outputs": [],
   "source": [
    "import pandas as pd\n",
    "df = pd.read_csv('reviews.csv')"
   ]
  },
  {
   "cell_type": "code",
   "execution_count": null,
   "metadata": {
    "colab": {
     "base_uri": "https://localhost:8080/",
     "height": 206
    },
    "id": "bmuahrtDqhkQ",
    "outputId": "a85e0fc5-972a-440c-a0e3-bd97a87184f0"
   },
   "outputs": [
    {
     "data": {
      "text/html": [
       "\n",
       "  <div id=\"df-0b93de22-3461-4ef4-acd2-457ded008192\">\n",
       "    <div class=\"colab-df-container\">\n",
       "      <div>\n",
       "<style scoped>\n",
       "    .dataframe tbody tr th:only-of-type {\n",
       "        vertical-align: middle;\n",
       "    }\n",
       "\n",
       "    .dataframe tbody tr th {\n",
       "        vertical-align: top;\n",
       "    }\n",
       "\n",
       "    .dataframe thead th {\n",
       "        text-align: right;\n",
       "    }\n",
       "</style>\n",
       "<table border=\"1\" class=\"dataframe\">\n",
       "  <thead>\n",
       "    <tr style=\"text-align: right;\">\n",
       "      <th></th>\n",
       "      <th>Score</th>\n",
       "      <th>Text</th>\n",
       "      <th>Clean_Text</th>\n",
       "      <th>label</th>\n",
       "    </tr>\n",
       "  </thead>\n",
       "  <tbody>\n",
       "    <tr>\n",
       "      <th>0</th>\n",
       "      <td>5</td>\n",
       "      <td>I have bought several of the Vitality canned d...</td>\n",
       "      <td>bought sever vital dog food product found good...</td>\n",
       "      <td>1</td>\n",
       "    </tr>\n",
       "    <tr>\n",
       "      <th>1</th>\n",
       "      <td>1</td>\n",
       "      <td>Product arrived labeled as Jumbo Salted Peanut...</td>\n",
       "      <td>product arriv label jumbo salt peanut peanut a...</td>\n",
       "      <td>0</td>\n",
       "    </tr>\n",
       "    <tr>\n",
       "      <th>2</th>\n",
       "      <td>4</td>\n",
       "      <td>This is a confection that has been around a fe...</td>\n",
       "      <td>thi confect ha around centuri light pillowi ci...</td>\n",
       "      <td>1</td>\n",
       "    </tr>\n",
       "    <tr>\n",
       "      <th>3</th>\n",
       "      <td>2</td>\n",
       "      <td>If you are looking for the secret ingredient i...</td>\n",
       "      <td>look secret ingredi robitussin believ found go...</td>\n",
       "      <td>0</td>\n",
       "    </tr>\n",
       "    <tr>\n",
       "      <th>4</th>\n",
       "      <td>5</td>\n",
       "      <td>Great taffy at a great price.  There was a wid...</td>\n",
       "      <td>great taffi great price wa wide assort yummi t...</td>\n",
       "      <td>1</td>\n",
       "    </tr>\n",
       "  </tbody>\n",
       "</table>\n",
       "</div>\n",
       "      <button class=\"colab-df-convert\" onclick=\"convertToInteractive('df-0b93de22-3461-4ef4-acd2-457ded008192')\"\n",
       "              title=\"Convert this dataframe to an interactive table.\"\n",
       "              style=\"display:none;\">\n",
       "        \n",
       "  <svg xmlns=\"http://www.w3.org/2000/svg\" height=\"24px\"viewBox=\"0 0 24 24\"\n",
       "       width=\"24px\">\n",
       "    <path d=\"M0 0h24v24H0V0z\" fill=\"none\"/>\n",
       "    <path d=\"M18.56 5.44l.94 2.06.94-2.06 2.06-.94-2.06-.94-.94-2.06-.94 2.06-2.06.94zm-11 1L8.5 8.5l.94-2.06 2.06-.94-2.06-.94L8.5 2.5l-.94 2.06-2.06.94zm10 10l.94 2.06.94-2.06 2.06-.94-2.06-.94-.94-2.06-.94 2.06-2.06.94z\"/><path d=\"M17.41 7.96l-1.37-1.37c-.4-.4-.92-.59-1.43-.59-.52 0-1.04.2-1.43.59L10.3 9.45l-7.72 7.72c-.78.78-.78 2.05 0 2.83L4 21.41c.39.39.9.59 1.41.59.51 0 1.02-.2 1.41-.59l7.78-7.78 2.81-2.81c.8-.78.8-2.07 0-2.86zM5.41 20L4 18.59l7.72-7.72 1.47 1.35L5.41 20z\"/>\n",
       "  </svg>\n",
       "      </button>\n",
       "      \n",
       "  <style>\n",
       "    .colab-df-container {\n",
       "      display:flex;\n",
       "      flex-wrap:wrap;\n",
       "      gap: 12px;\n",
       "    }\n",
       "\n",
       "    .colab-df-convert {\n",
       "      background-color: #E8F0FE;\n",
       "      border: none;\n",
       "      border-radius: 50%;\n",
       "      cursor: pointer;\n",
       "      display: none;\n",
       "      fill: #1967D2;\n",
       "      height: 32px;\n",
       "      padding: 0 0 0 0;\n",
       "      width: 32px;\n",
       "    }\n",
       "\n",
       "    .colab-df-convert:hover {\n",
       "      background-color: #E2EBFA;\n",
       "      box-shadow: 0px 1px 2px rgba(60, 64, 67, 0.3), 0px 1px 3px 1px rgba(60, 64, 67, 0.15);\n",
       "      fill: #174EA6;\n",
       "    }\n",
       "\n",
       "    [theme=dark] .colab-df-convert {\n",
       "      background-color: #3B4455;\n",
       "      fill: #D2E3FC;\n",
       "    }\n",
       "\n",
       "    [theme=dark] .colab-df-convert:hover {\n",
       "      background-color: #434B5C;\n",
       "      box-shadow: 0px 1px 3px 1px rgba(0, 0, 0, 0.15);\n",
       "      filter: drop-shadow(0px 1px 2px rgba(0, 0, 0, 0.3));\n",
       "      fill: #FFFFFF;\n",
       "    }\n",
       "  </style>\n",
       "\n",
       "      <script>\n",
       "        const buttonEl =\n",
       "          document.querySelector('#df-0b93de22-3461-4ef4-acd2-457ded008192 button.colab-df-convert');\n",
       "        buttonEl.style.display =\n",
       "          google.colab.kernel.accessAllowed ? 'block' : 'none';\n",
       "\n",
       "        async function convertToInteractive(key) {\n",
       "          const element = document.querySelector('#df-0b93de22-3461-4ef4-acd2-457ded008192');\n",
       "          const dataTable =\n",
       "            await google.colab.kernel.invokeFunction('convertToInteractive',\n",
       "                                                     [key], {});\n",
       "          if (!dataTable) return;\n",
       "\n",
       "          const docLinkHtml = 'Like what you see? Visit the ' +\n",
       "            '<a target=\"_blank\" href=https://colab.research.google.com/notebooks/data_table.ipynb>data table notebook</a>'\n",
       "            + ' to learn more about interactive tables.';\n",
       "          element.innerHTML = '';\n",
       "          dataTable['output_type'] = 'display_data';\n",
       "          await google.colab.output.renderOutput(dataTable, element);\n",
       "          const docLink = document.createElement('div');\n",
       "          docLink.innerHTML = docLinkHtml;\n",
       "          element.appendChild(docLink);\n",
       "        }\n",
       "      </script>\n",
       "    </div>\n",
       "  </div>\n",
       "  "
      ],
      "text/plain": [
       "   Score                                               Text  \\\n",
       "0      5  I have bought several of the Vitality canned d...   \n",
       "1      1  Product arrived labeled as Jumbo Salted Peanut...   \n",
       "2      4  This is a confection that has been around a fe...   \n",
       "3      2  If you are looking for the secret ingredient i...   \n",
       "4      5  Great taffy at a great price.  There was a wid...   \n",
       "\n",
       "                                          Clean_Text  label  \n",
       "0  bought sever vital dog food product found good...      1  \n",
       "1  product arriv label jumbo salt peanut peanut a...      0  \n",
       "2  thi confect ha around centuri light pillowi ci...      1  \n",
       "3  look secret ingredi robitussin believ found go...      0  \n",
       "4  great taffi great price wa wide assort yummi t...      1  "
      ]
     },
     "execution_count": 113,
     "metadata": {},
     "output_type": "execute_result"
    }
   ],
   "source": [
    "df.head()"
   ]
  },
  {
   "cell_type": "code",
   "execution_count": null,
   "metadata": {},
   "outputs": [],
   "source": [
    "import nltk\n",
    "nltk.download('stopwords')\n",
    "nltk.download('punkt')"
   ]
  },
  {
   "cell_type": "code",
   "execution_count": null,
   "metadata": {
    "id": "pRNUtd76lxTg"
   },
   "outputs": [],
   "source": [
    "import re\n",
    "from nltk.corpus import stopwords\n",
    "# from nltk.stem import WordNetLemmatizer\n",
    "from nltk.stem import PorterStemmer\n",
    "from nltk.tokenize import word_tokenize\n",
    "\n",
    "def review_to_words(raw_review):\n",
    "    letters_only = re.sub(\"[^a-zA-Z]\", \" \", raw_review)\n",
    "    words = word_tokenize(letters_only.lower())\n",
    "    my_stemmer = PorterStemmer()\n",
    "    stemmed_words = [my_stemmer.stem(word) for word in words]\n",
    "    stops = set(stopwords.words(\"english\"))\n",
    "    meaningful_words = [w for w in stemmed_words if not w in stops]\n",
    "    # return(\" \".join(meaningful_words))\n",
    "    return meaningful_words"
   ]
  },
  {
   "cell_type": "markdown",
   "metadata": {
    "id": "8mx_f4TfmqvB"
   },
   "source": [
    "Tokenization"
   ]
  },
  {
   "cell_type": "code",
   "execution_count": null,
   "metadata": {
    "id": "s4T77RgLdueQ"
   },
   "outputs": [],
   "source": [
    "df['tokenized'] = df['Text'].apply(review_to_words)"
   ]
  },
  {
   "cell_type": "code",
   "execution_count": null,
   "metadata": {
    "colab": {
     "base_uri": "https://localhost:8080/",
     "height": 2114
    },
    "id": "WtbDyAl-tBMF",
    "outputId": "86b44c98-18bf-474a-d8e1-2f57b2736ae1"
   },
   "outputs": [
    {
     "data": {
      "text/html": [
       "\n",
       "  <div id=\"df-ad78cace-9c7c-4a95-814a-80e1f62f22b8\">\n",
       "    <div class=\"colab-df-container\">\n",
       "      <div>\n",
       "<style scoped>\n",
       "    .dataframe tbody tr th:only-of-type {\n",
       "        vertical-align: middle;\n",
       "    }\n",
       "\n",
       "    .dataframe tbody tr th {\n",
       "        vertical-align: top;\n",
       "    }\n",
       "\n",
       "    .dataframe thead th {\n",
       "        text-align: right;\n",
       "    }\n",
       "</style>\n",
       "<table border=\"1\" class=\"dataframe\">\n",
       "  <thead>\n",
       "    <tr style=\"text-align: right;\">\n",
       "      <th></th>\n",
       "      <th>Score</th>\n",
       "      <th>Text</th>\n",
       "      <th>Clean_Text</th>\n",
       "      <th>label</th>\n",
       "      <th>tokenized</th>\n",
       "    </tr>\n",
       "  </thead>\n",
       "  <tbody>\n",
       "    <tr>\n",
       "      <th>0</th>\n",
       "      <td>5</td>\n",
       "      <td>I have bought several of the Vitality canned d...</td>\n",
       "      <td>bought sever vital dog food product found good...</td>\n",
       "      <td>1</td>\n",
       "      <td>[bought, sever, vital, dog, food, product, fou...</td>\n",
       "    </tr>\n",
       "    <tr>\n",
       "      <th>1</th>\n",
       "      <td>1</td>\n",
       "      <td>Product arrived labeled as Jumbo Salted Peanut...</td>\n",
       "      <td>product arriv label jumbo salt peanut peanut a...</td>\n",
       "      <td>0</td>\n",
       "      <td>[product, arriv, label, jumbo, salt, peanut, p...</td>\n",
       "    </tr>\n",
       "    <tr>\n",
       "      <th>2</th>\n",
       "      <td>4</td>\n",
       "      <td>This is a confection that has been around a fe...</td>\n",
       "      <td>thi confect ha around centuri light pillowi ci...</td>\n",
       "      <td>1</td>\n",
       "      <td>[thi, confect, ha, around, centuri, light, pil...</td>\n",
       "    </tr>\n",
       "    <tr>\n",
       "      <th>3</th>\n",
       "      <td>2</td>\n",
       "      <td>If you are looking for the secret ingredient i...</td>\n",
       "      <td>look secret ingredi robitussin believ found go...</td>\n",
       "      <td>0</td>\n",
       "      <td>[look, secret, ingredi, robitussin, believ, fo...</td>\n",
       "    </tr>\n",
       "    <tr>\n",
       "      <th>4</th>\n",
       "      <td>5</td>\n",
       "      <td>Great taffy at a great price.  There was a wid...</td>\n",
       "      <td>great taffi great price wa wide assort yummi t...</td>\n",
       "      <td>1</td>\n",
       "      <td>[great, taffi, great, price, wa, wide, assort,...</td>\n",
       "    </tr>\n",
       "  </tbody>\n",
       "</table>\n",
       "</div>\n",
       "      <button class=\"colab-df-convert\" onclick=\"convertToInteractive('df-ad78cace-9c7c-4a95-814a-80e1f62f22b8')\"\n",
       "              title=\"Convert this dataframe to an interactive table.\"\n",
       "              style=\"display:none;\">\n",
       "        \n",
       "  <svg xmlns=\"http://www.w3.org/2000/svg\" height=\"24px\"viewBox=\"0 0 24 24\"\n",
       "       width=\"24px\">\n",
       "    <path d=\"M0 0h24v24H0V0z\" fill=\"none\"/>\n",
       "    <path d=\"M18.56 5.44l.94 2.06.94-2.06 2.06-.94-2.06-.94-.94-2.06-.94 2.06-2.06.94zm-11 1L8.5 8.5l.94-2.06 2.06-.94-2.06-.94L8.5 2.5l-.94 2.06-2.06.94zm10 10l.94 2.06.94-2.06 2.06-.94-2.06-.94-.94-2.06-.94 2.06-2.06.94z\"/><path d=\"M17.41 7.96l-1.37-1.37c-.4-.4-.92-.59-1.43-.59-.52 0-1.04.2-1.43.59L10.3 9.45l-7.72 7.72c-.78.78-.78 2.05 0 2.83L4 21.41c.39.39.9.59 1.41.59.51 0 1.02-.2 1.41-.59l7.78-7.78 2.81-2.81c.8-.78.8-2.07 0-2.86zM5.41 20L4 18.59l7.72-7.72 1.47 1.35L5.41 20z\"/>\n",
       "  </svg>\n",
       "      </button>\n",
       "      \n",
       "  <style>\n",
       "    .colab-df-container {\n",
       "      display:flex;\n",
       "      flex-wrap:wrap;\n",
       "      gap: 12px;\n",
       "    }\n",
       "\n",
       "    .colab-df-convert {\n",
       "      background-color: #E8F0FE;\n",
       "      border: none;\n",
       "      border-radius: 50%;\n",
       "      cursor: pointer;\n",
       "      display: none;\n",
       "      fill: #1967D2;\n",
       "      height: 32px;\n",
       "      padding: 0 0 0 0;\n",
       "      width: 32px;\n",
       "    }\n",
       "\n",
       "    .colab-df-convert:hover {\n",
       "      background-color: #E2EBFA;\n",
       "      box-shadow: 0px 1px 2px rgba(60, 64, 67, 0.3), 0px 1px 3px 1px rgba(60, 64, 67, 0.15);\n",
       "      fill: #174EA6;\n",
       "    }\n",
       "\n",
       "    [theme=dark] .colab-df-convert {\n",
       "      background-color: #3B4455;\n",
       "      fill: #D2E3FC;\n",
       "    }\n",
       "\n",
       "    [theme=dark] .colab-df-convert:hover {\n",
       "      background-color: #434B5C;\n",
       "      box-shadow: 0px 1px 3px 1px rgba(0, 0, 0, 0.15);\n",
       "      filter: drop-shadow(0px 1px 2px rgba(0, 0, 0, 0.3));\n",
       "      fill: #FFFFFF;\n",
       "    }\n",
       "  </style>\n",
       "\n",
       "      <script>\n",
       "        const buttonEl =\n",
       "          document.querySelector('#df-ad78cace-9c7c-4a95-814a-80e1f62f22b8 button.colab-df-convert');\n",
       "        buttonEl.style.display =\n",
       "          google.colab.kernel.accessAllowed ? 'block' : 'none';\n",
       "\n",
       "        async function convertToInteractive(key) {\n",
       "          const element = document.querySelector('#df-ad78cace-9c7c-4a95-814a-80e1f62f22b8');\n",
       "          const dataTable =\n",
       "            await google.colab.kernel.invokeFunction('convertToInteractive',\n",
       "                                                     [key], {});\n",
       "          if (!dataTable) return;\n",
       "\n",
       "          const docLinkHtml = 'Like what you see? Visit the ' +\n",
       "            '<a target=\"_blank\" href=https://colab.research.google.com/notebooks/data_table.ipynb>data table notebook</a>'\n",
       "            + ' to learn more about interactive tables.';\n",
       "          element.innerHTML = '';\n",
       "          dataTable['output_type'] = 'display_data';\n",
       "          await google.colab.output.renderOutput(dataTable, element);\n",
       "          const docLink = document.createElement('div');\n",
       "          docLink.innerHTML = docLinkHtml;\n",
       "          element.appendChild(docLink);\n",
       "        }\n",
       "      </script>\n",
       "    </div>\n",
       "  </div>\n",
       "  "
      ],
      "text/plain": [
       "   Score                                               Text  \\\n",
       "0      5  I have bought several of the Vitality canned d...   \n",
       "1      1  Product arrived labeled as Jumbo Salted Peanut...   \n",
       "2      4  This is a confection that has been around a fe...   \n",
       "3      2  If you are looking for the secret ingredient i...   \n",
       "4      5  Great taffy at a great price.  There was a wid...   \n",
       "\n",
       "                                          Clean_Text  label  \\\n",
       "0  bought sever vital dog food product found good...      1   \n",
       "1  product arriv label jumbo salt peanut peanut a...      0   \n",
       "2  thi confect ha around centuri light pillowi ci...      1   \n",
       "3  look secret ingredi robitussin believ found go...      0   \n",
       "4  great taffi great price wa wide assort yummi t...      1   \n",
       "\n",
       "                                           tokenized  \n",
       "0  [bought, sever, vital, dog, food, product, fou...  \n",
       "1  [product, arriv, label, jumbo, salt, peanut, p...  \n",
       "2  [thi, confect, ha, around, centuri, light, pil...  \n",
       "3  [look, secret, ingredi, robitussin, believ, fo...  \n",
       "4  [great, taffi, great, price, wa, wide, assort,...  "
      ]
     },
     "execution_count": 12,
     "metadata": {},
     "output_type": "execute_result"
    }
   ],
   "source": [
    "df.head()"
   ]
  },
  {
   "cell_type": "code",
   "execution_count": null,
   "metadata": {
    "id": "m8HSC86qyMCS"
   },
   "outputs": [],
   "source": [
    "df = df.drop(['Id', 'ProductId', 'UserId', 'HelpfulnessNumerator', \n",
    "              'HelpfulnessDenominator', 'Summary', 'Time', 'ProfileName'], axis=1)"
   ]
  },
  {
   "cell_type": "code",
   "execution_count": null,
   "metadata": {
    "id": "xW9kQ3Fn0nz5"
   },
   "outputs": [],
   "source": [
    "df['label'] = None"
   ]
  },
  {
   "cell_type": "code",
   "execution_count": null,
   "metadata": {
    "colab": {
     "base_uri": "https://localhost:8080/"
    },
    "id": "CJEtgHiyQiI4",
    "outputId": "d08f63eb-978b-4f98-ef3c-9dbb7d76a62d"
   },
   "outputs": [
    {
     "data": {
      "text/plain": [
       "(568454, 5)"
      ]
     },
     "execution_count": 13,
     "metadata": {},
     "output_type": "execute_result"
    }
   ],
   "source": [
    "df.shape"
   ]
  },
  {
   "cell_type": "code",
   "execution_count": null,
   "metadata": {
    "id": "Bz8pv22TXdn6"
   },
   "outputs": [],
   "source": [
    "for i in df.index:\n",
    "    if df.Score[i] == 1 or df.Score[i] == 2:\n",
    "        df.loc[i, 'label'] = 0\n",
    "    elif df.Score[i] == 3 or df.Score[i] == 4 or df.Score[i] == 5 :\n",
    "        df.loc[i, 'label'] = 1"
   ]
  },
  {
   "cell_type": "code",
   "execution_count": null,
   "metadata": {
    "id": "wQcFymtI24Fc"
   },
   "outputs": [],
   "source": []
  },
  {
   "cell_type": "code",
   "execution_count": null,
   "metadata": {
    "id": "VTD3EUnW1yBj"
   },
   "outputs": [],
   "source": [
    "X_tokenized = df['tokenized'].values\n",
    "y = df['label'].values"
   ]
  },
  {
   "cell_type": "code",
   "execution_count": null,
   "metadata": {
    "id": "GvRaO5z215JU"
   },
   "outputs": [],
   "source": [
    "vocab = {}\n",
    "\n",
    "for sentence in X_tokenized:\n",
    "  for word in sentence:\n",
    "    if word not in vocab:\n",
    "      vocab[word] = len(vocab)"
   ]
  },
  {
   "cell_type": "code",
   "execution_count": null,
   "metadata": {
    "colab": {
     "base_uri": "https://localhost:8080/"
    },
    "id": "FTvBsSwDQwgW",
    "outputId": "14dbe87c-7ef0-407e-c5b3-21e972d38814"
   },
   "outputs": [
    {
     "data": {
      "text/plain": [
       "80011"
      ]
     },
     "execution_count": 126,
     "metadata": {},
     "output_type": "execute_result"
    }
   ],
   "source": [
    "len(vocab)"
   ]
  },
  {
   "cell_type": "code",
   "execution_count": null,
   "metadata": {
    "id": "IqjGGS0415Fv"
   },
   "outputs": [],
   "source": [
    "X_indexed = [[vocab[word] for word in sentence] for sentence in X_tokenized]"
   ]
  },
  {
   "cell_type": "markdown",
   "metadata": {},
   "source": [
    "Outlier"
   ]
  },
  {
   "cell_type": "code",
   "execution_count": null,
   "metadata": {
    "colab": {
     "base_uri": "https://localhost:8080/"
    },
    "id": "S7f3X2pORU3q",
    "outputId": "a0d5e7a9-d295-467a-cfbb-c6c75c6d5e4a"
   },
   "outputs": [
    {
     "name": "stdout",
     "output_type": "stream",
     "text": [
      "No element with length 0 was found.\n"
     ]
    }
   ],
   "source": [
    "index = None\n",
    "for i, x in enumerate(X_indexed):\n",
    "    if len(x) == 0:\n",
    "        index = i\n",
    "        break\n",
    "\n",
    "if index is not None:\n",
    "    print(f\"The index of the element with length 0 is {index}.\")\n",
    "else:\n",
    "    print(\"No element with length 0 was found.\")\n"
   ]
  },
  {
   "cell_type": "markdown",
   "metadata": {
    "id": "H9oY5orNmk5p"
   },
   "source": [
    "Bucketing"
   ]
  },
  {
   "cell_type": "code",
   "execution_count": null,
   "metadata": {
    "id": "MNmOunFo15Dj"
   },
   "outputs": [],
   "source": [
    "from collections import defaultdict\n",
    "\n",
    "bucketed_X = defaultdict(list)\n",
    "for i, x in enumerate(X_indexed):\n",
    "    bucketed_X[len(x)].append(i)"
   ]
  },
  {
   "cell_type": "markdown",
   "metadata": {
    "id": "qcxuyevIp-9q"
   },
   "source": [
    "Batching"
   ]
  },
  {
   "cell_type": "code",
   "execution_count": null,
   "metadata": {
    "id": "iLIsevPf15Bb"
   },
   "outputs": [],
   "source": [
    "batch_indices = []\n",
    "\n",
    "for _, sequence_indices in bucketed_X.items():\n",
    "    batch_indices.extend([sequence_indices[i:i+32] for i in range(0, len(sequence_indices), 32)])"
   ]
  },
  {
   "cell_type": "code",
   "execution_count": null,
   "metadata": {
    "id": "K1UfJxbB14_K"
   },
   "outputs": [],
   "source": [
    "import torch\n",
    "from torch.nn.utils.rnn import pad_sequence\n",
    "\n",
    "X_batched = []\n",
    "\n",
    "for batch in batch_indices:\n",
    "    sequences = [X_indexed[i] for i in batch]\n",
    "    padded = pad_sequence([torch.LongTensor(x) for x in sequences], batch_first=True)\n",
    "    X_batched.append(padded)"
   ]
  },
  {
   "cell_type": "code",
   "execution_count": null,
   "metadata": {
    "id": "RKckg4s0RfgP"
   },
   "outputs": [],
   "source": [
    "from torch.utils.data import Dataset, DataLoader\n",
    "\n",
    "class TextDataset(Dataset):\n",
    "    def __init__(self, X, y):\n",
    "        self.X = X\n",
    "        self.y = y\n",
    "\n",
    "    def __len__(self):\n",
    "        return len(self.X)\n",
    "\n",
    "    def __getitem__(self, idx):\n",
    "        return self.X[idx], self.y[idx]"
   ]
  },
  {
   "cell_type": "code",
   "execution_count": null,
   "metadata": {
    "id": "5o7u5TQl2H5B"
   },
   "outputs": [],
   "source": [
    "dataset = TextDataset(X_batched, torch.tensor(y))\n",
    "dataloader = DataLoader(dataset, batch_size=1, shuffle=True)"
   ]
  },
  {
   "cell_type": "markdown",
   "metadata": {
    "id": "fD9_aTLBmJIY"
   },
   "source": [
    "LSTM"
   ]
  },
  {
   "cell_type": "code",
   "execution_count": null,
   "metadata": {
    "id": "fNnbI2MJ2H1d"
   },
   "outputs": [],
   "source": [
    "class LSTMModel(torch.nn.Module):\n",
    "    def __init__(self, vocab_size, embedding_dim, hidden_dim, num_layers):\n",
    "        super().__init__()\n",
    "        self.embedding = torch.nn.Embedding(vocab_size, embedding_dim)\n",
    "        self.lstm = torch.nn.LSTM(embedding_dim, hidden_dim, num_layers=num_layers, batch_first=True)\n",
    "        self.fc = torch.nn.Linear(hidden_dim, 1)\n",
    "\n",
    "    def forward(self, x):\n",
    "        embedded = self.embedding(x)\n",
    "        output, (hidden, cell) = self.lstm(embedded)\n",
    "        logits = self.fc(hidden[-1])\n",
    "        return torch.sigmoid(logits)"
   ]
  },
  {
   "cell_type": "code",
   "execution_count": null,
   "metadata": {
    "id": "FWtSMPx92HzL"
   },
   "outputs": [],
   "source": [
    "model = LSTMModel(len(vocab), 100, 50, 2)"
   ]
  },
  {
   "cell_type": "code",
   "execution_count": null,
   "metadata": {
    "id": "QpRl9b6g2PTv"
   },
   "outputs": [],
   "source": [
    "criterion = torch.nn.BCELoss()\n",
    "optimizer = torch.optim.Adam(model.parameters(), lr=0.01)"
   ]
  },
  {
   "cell_type": "markdown",
   "metadata": {
    "id": "idCsK4YRnEnC"
   },
   "source": [
    "Training using 1000 data samples"
   ]
  },
  {
   "cell_type": "code",
   "execution_count": null,
   "metadata": {
    "colab": {
     "base_uri": "https://localhost:8080/"
    },
    "id": "F44QXJ1PBJjw",
    "outputId": "3b2cf7a4-f2fa-4667-d942-ad20eda71d33"
   },
   "outputs": [
    {
     "name": "stdout",
     "output_type": "stream",
     "text": [
      "Epoch 1, Train Loss: 0.2559, Train Acc: 0.9051, duration: 0:01:35.319899\n",
      "Epoch 2, Train Loss: 0.1893, Train Acc: 0.9282, duration: 0:01:42.127701\n",
      "Epoch 3, Train Loss: 0.0824, Train Acc: 0.9667, duration: 0:01:34.753130\n",
      "Epoch 4, Train Loss: 0.0297, Train Acc: 0.9872, duration: 0:01:39.759399\n",
      "Epoch 5, Train Loss: 0.0148, Train Acc: 0.9949, duration: 0:01:37.326059\n",
      "Epoch 6, Train Loss: 0.0068, Train Acc: 0.9974, duration: 0:01:35.432388\n",
      "Epoch 7, Train Loss: 0.0064, Train Acc: 0.9949, duration: 0:01:37.659487\n",
      "Epoch 8, Train Loss: 0.0053, Train Acc: 0.9974, duration: 0:01:37.172830\n",
      "Epoch 9, Train Loss: 0.0049, Train Acc: 0.9974, duration: 0:01:36.697759\n",
      "Epoch 10, Train Loss: 0.0047, Train Acc: 0.9974, duration: 0:01:51.815861\n"
     ]
    }
   ],
   "source": [
    "import numpy as np\n",
    "from datetime import datetime\n",
    "\n",
    "device = torch.device(\"cuda\" if torch.cuda.is_available() else \"cpu\")\n",
    "model = model.to(device)\n",
    "dt = 0\n",
    "t0 = 0\n",
    "train_losses = np.zeros(10)\n",
    "train_accs = np.zeros(10)\n",
    "\n",
    "for epoch in range(10):\n",
    "    t0 = datetime.now()\n",
    "    train_loss = []\n",
    "    train_acc = []\n",
    "    model.train()\n",
    "    for X_batch, y_batch in dataloader:\n",
    "\n",
    "        X_batch = X_batch.to(device)\n",
    "        X_batch = X_batch.flatten()\n",
    "        y_batch = y_batch.float().to(device)\n",
    "        optimizer.zero_grad()\n",
    "        output = model(X_batch)\n",
    "        loss = criterion(output, y_batch)  #squeeze()\n",
    "        loss.backward()\n",
    "        optimizer.step()\n",
    "        train_loss.append(loss.item())\n",
    "        # print('train loss', loss.item())\n",
    "        train_acc.append(((output.squeeze()>0.5).float() == y_batch.squeeze()).float().mean().item())  # add squeeze() here\n",
    "        # print('train acc', (output.squeeze()>0.5).float() == y_batch.squeeze())\n",
    "        # dt = datetime.now() - t0\n",
    "        # print('dt', dt)\n",
    "    train_loss = np.mean(train_loss)\n",
    "    train_losses[epoch] = train_loss\n",
    "    train_acc = np.mean(train_acc)\n",
    "    train_accs[epoch] =train_acc\n",
    "    dt = datetime.now() - t0\n",
    "    print(f\"Epoch {epoch+1}, Train Loss: {train_loss:.4f}, Train Acc: {train_acc:.4f}, duration: {dt}\")"
   ]
  },
  {
   "cell_type": "code",
   "execution_count": null,
   "metadata": {
    "colab": {
     "base_uri": "https://localhost:8080/",
     "height": 430
    },
    "id": "xdx5xWpDk_lG",
    "outputId": "53965e81-fe74-45e2-f92a-f1034895a443"
   },
   "outputs": [
    {
     "data": {
      "image/png": "[encoded data removed]",
      "text/plain": [
       "<Figure size 640x480 with 1 Axes>"
      ]
     },
     "metadata": {},
     "output_type": "display_data"
    }
   ],
   "source": [
    "import matplotlib.pyplot as plt\n",
    "\n",
    "plt.plot(train_losses, label = 'train loss', color = 'red')\n",
    "plt.plot(train_accs, label = 'train accuracy', color = 'black')\n",
    "plt.legend()\n",
    "plt.show();"
   ]
  },
  {
   "cell_type": "code",
   "execution_count": null,
   "metadata": {
    "id": "r6nUksgim2sf"
   },
   "outputs": [],
   "source": [
    "dataset = TextDataset(X_batched, torch.tensor(y))\n",
    "\n",
    "train_size = int(0.8 * len(dataset))\n",
    "test_size = len(dataset) - train_size\n",
    "train_dataset, test_dataset = torch.utils.data.random_split(dataset, [train_size, test_size])\n",
    "\n",
    "train_dataloader = DataLoader(train_dataset, batch_size=1, shuffle=True)\n",
    "test_dataloader = DataLoader(test_dataset, batch_size=1, shuffle=False)"
   ]
  },
  {
   "cell_type": "code",
   "execution_count": null,
   "metadata": {
    "id": "YpG1pvrTJLC8"
   },
   "outputs": [],
   "source": [
    "device = torch.device(\"cuda\" if torch.cuda.is_available() else \"cpu\")\n",
    "model = model.to(device)"
   ]
  },
  {
   "cell_type": "code",
   "execution_count": null,
   "metadata": {
    "id": "gjjf_v-9mxxK"
   },
   "outputs": [],
   "source": [
    "def batch_gd(model, criterion, optimizer, train_dataloader, test_dataloader, epoch):\n",
    "  train_losses = np.zeros(epoch)\n",
    "  test_losses = np.zeros(epoch)\n",
    "\n",
    "  for it in range(epoch):\n",
    "    t0 = datetime.now()\n",
    "\n",
    "    train_loss = []\n",
    "    for X_batch, y_batch in train_dataloader:\n",
    "      X_batch = X_batch.to(device)\n",
    "      X_batch = X_batch.flatten()\n",
    "      y_batch = y_batch.float().to(device)\n",
    "\n",
    "      optimizer.zero_grad()\n",
    "      outputs = model(X_batch)\n",
    "      loss = criterion(outputs, y_batch)\n",
    "      loss.backward()\n",
    "      optimizer.step()\n",
    "\n",
    "      train_loss.append(loss.item())\n",
    "    train_loss = np.mean(train_loss)\n",
    "\n",
    "    test_loss = []\n",
    "\n",
    "    for X_batch, y_batch in test_dataloader:\n",
    "      X_batch = X_batch.to(device)\n",
    "      X_batch = X_batch.flatten()\n",
    "      y_batch = y_batch.float().to(device)\n",
    "\n",
    "      outputs = model(X_batch)\n",
    "      loss = criterion(outputs, y_batch)\n",
    "      test_loss.append(loss.item())\n",
    "\n",
    "    test_loss = np.mean(test_loss)\n",
    "\n",
    "    train_losses[it] = train_loss\n",
    "    test_losses[it] = test_loss\n",
    "\n",
    "    dt = datetime.now() - t0\n",
    "    print(f'Epoch {it + 1} / {epoch}, Train loss: {train_loss:.4f},\\\n",
    "     Test loss: {test_loss:.4f}, Duration: {dt}')\n",
    "  return train_losses, test_losses"
   ]
  },
  {
   "cell_type": "markdown",
   "metadata": {
    "id": "8Q7jNMcqD5vO"
   },
   "source": [
    "Training using the whole dataset"
   ]
  },
  {
   "cell_type": "code",
   "execution_count": null,
   "metadata": {
    "colab": {
     "base_uri": "https://localhost:8080/"
    },
    "id": "v_920V3LDz7B",
    "outputId": "097310f7-e2fd-4d2e-e418-8ac566ca2ba1"
   },
   "outputs": [
    {
     "name": "stdout",
     "output_type": "stream",
     "text": [
      "Epoch 1 / 25, Train loss: 0.4235,     Test loss: 0.4311, Duration: 0:02:45.330751\n",
      "Epoch 2 / 25, Train loss: 0.4171,     Test loss: 0.4430, Duration: 0:02:44.453604\n",
      "Epoch 3 / 25, Train loss: 0.4119,     Test loss: 0.4506, Duration: 0:02:45.401951\n",
      "Epoch 4 / 25, Train loss: 0.4102,     Test loss: 0.4383, Duration: 0:02:45.024131\n",
      "Epoch 5 / 25, Train loss: 0.4094,     Test loss: 0.4465, Duration: 0:02:44.773740\n",
      "Epoch 6 / 25, Train loss: 0.4054,     Test loss: 0.4426, Duration: 0:02:44.685703\n",
      "Epoch 7 / 25, Train loss: 0.4033,     Test loss: 0.4668, Duration: 0:02:45.433844\n",
      "Epoch 8 / 25, Train loss: 0.4033,     Test loss: 0.4758, Duration: 0:02:44.441817\n",
      "Epoch 9 / 25, Train loss: 0.4059,     Test loss: 0.4569, Duration: 0:02:44.570650\n",
      "Epoch 10 / 25, Train loss: 0.4025,     Test loss: 0.4541, Duration: 0:02:44.244223\n",
      "Epoch 11 / 25, Train loss: 0.3972,     Test loss: 0.5297, Duration: 0:02:45.469799\n",
      "Epoch 12 / 25, Train loss: 0.3974,     Test loss: 0.4459, Duration: 0:02:56.843669\n",
      "Epoch 13 / 25, Train loss: 0.4017,     Test loss: 0.5319, Duration: 0:03:14.394877\n",
      "Epoch 14 / 25, Train loss: 0.3983,     Test loss: 0.4882, Duration: 0:03:03.490475\n",
      "Epoch 15 / 25, Train loss: 0.3977,     Test loss: 0.4618, Duration: 0:03:00.400540\n",
      "Epoch 16 / 25, Train loss: 0.3968,     Test loss: 0.4461, Duration: 0:03:06.938898\n",
      "Epoch 17 / 25, Train loss: 0.3968,     Test loss: 0.4676, Duration: 0:02:53.889365\n",
      "Epoch 18 / 25, Train loss: 0.3946,     Test loss: 0.4534, Duration: 0:02:45.710191\n",
      "Epoch 19 / 25, Train loss: 0.3960,     Test loss: 0.4614, Duration: 0:02:46.694495\n",
      "Epoch 20 / 25, Train loss: 0.4011,     Test loss: 0.4663, Duration: 0:02:47.165750\n",
      "Epoch 21 / 25, Train loss: 0.3950,     Test loss: 0.4494, Duration: 0:02:55.501010\n",
      "Epoch 22 / 25, Train loss: 0.4009,     Test loss: 0.4601, Duration: 0:02:44.946509\n",
      "Epoch 23 / 25, Train loss: 0.3983,     Test loss: 0.4683, Duration: 0:02:45.413274\n",
      "Epoch 24 / 25, Train loss: 0.4024,     Test loss: 0.4709, Duration: 0:02:44.270237\n",
      "Epoch 25 / 25, Train loss: 0.3996,     Test loss: 0.4707, Duration: 0:02:44.628141\n"
     ]
    }
   ],
   "source": [
    "train_losses, test_losses = batch_gd(\n",
    "    model, criterion, optimizer, train_dataloader, test_dataloader, epoch = 25)"
   ]
  },
  {
   "cell_type": "code",
   "execution_count": null,
   "metadata": {
    "colab": {
     "base_uri": "https://localhost:8080/",
     "height": 430
    },
    "id": "tZdxYJOPBCST",
    "outputId": "3424f1f4-409d-4f5b-bf42-a703f3b9b963"
   },
   "outputs": [
    {
     "data": {
      "image/png": "[encoded data removed]",
      "text/plain": [
       "<Figure size 640x480 with 1 Axes>"
      ]
     },
     "metadata": {},
     "output_type": "display_data"
    }
   ],
   "source": [
    "plt.plot(train_losses, label = 'train loss')\n",
    "plt.plot(test_losses, label = 'test loss')\n",
    "plt.legend()\n",
    "plt.show();"
   ]
  },
  {
   "cell_type": "code",
   "execution_count": null,
   "metadata": {
    "colab": {
     "base_uri": "https://localhost:8080/"
    },
    "id": "2sf2B-BcBF9n",
    "outputId": "6064fbf5-1153-4c28-f93a-8681e21f4ef3"
   },
   "outputs": [
    {
     "name": "stdout",
     "output_type": "stream",
     "text": [
      "train accuracy: 0.8655 \n",
      " test accuracy: 0.9629\n"
     ]
    }
   ],
   "source": [
    "n_correct = 0\n",
    "n_total = 0\n",
    "\n",
    "for inputs, targets in train_dataloader:\n",
    "  inputs, targets = inputs.to(device), targets.to(device)\n",
    "  inputs = inputs.flatten()\n",
    "\n",
    "  outputs = model(inputs)\n",
    "  if outputs >= 0.5:\n",
    "    outputs = 1\n",
    "  else:\n",
    "    outputs = 0\n",
    "\n",
    "  # _, predictions = torch.max(outputs, 1)\n",
    "\n",
    "  n_correct += (outputs == targets).sum().item()\n",
    "  n_total += targets.shape[0]\n",
    "\n",
    "train_acc = n_correct / n_total\n",
    "\n",
    "n_correct = 0\n",
    "n_total = 0\n",
    "\n",
    "for inputs, outputs in test_dataloader:\n",
    "  inputs, targets = inputs.to(device), targets.to(device)\n",
    "  inputs = inputs.flatten()\n",
    "  outputs = model(inputs)\n",
    "  if outputs >= 0.5:\n",
    "    outputs = 1\n",
    "  else:\n",
    "    outputs = 0\n",
    "  # _, predictions = torch.max(outputs, 1)\n",
    "\n",
    "  n_correct += (outputs == targets).sum().item()\n",
    "  n_total += targets.shape[0]\n",
    "\n",
    "test_acc = n_correct / n_total\n",
    "\n",
    "print(f'train accuracy: {train_acc:.4f} \\n test accuracy: {test_acc:.4f}')"
   ]
  }
 ],
 "metadata": {
  "accelerator": "GPU",
  "colab": {
   "provenance": []
  },
  "gpuClass": "standard",
  "kernelspec": {
   "display_name": "Python 3",
   "language": "python",
   "name": "python3"
  },
  "language_info": {
   "codemirror_mode": {
    "name": "ipython",
    "version": 3
   },
   "file_extension": ".py",
   "mimetype": "text/x-python",
   "name": "python",
   "nbconvert_exporter": "python",
   "pygments_lexer": "ipython3",
   "version": "3.8.5"
  }
 },
 "nbformat": 4,
 "nbformat_minor": 1
}
